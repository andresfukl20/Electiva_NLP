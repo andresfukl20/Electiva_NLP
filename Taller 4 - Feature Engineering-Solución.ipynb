{
 "cells": [
  {
   "cell_type": "markdown",
   "metadata": {},
   "source": [
    "<img src='https://encrypted-tbn0.gstatic.com/images?q=tbn%3AANd9GcQ-VfNtOyJbsaxu43Kztf_cv1mgBG6ZIQZEVw&usqp=CAU'>\n",
    "\n",
    "# Procesamiento de Lenguage Natural\n",
    "\n",
    "## Taller #4: Feature Engineering \n",
    "`Fecha de entrega: Septiembre 12, 2020. (Antes del inicio de la próxima clase).`\n",
    "\n",
    "`Modo de entrega: Subir link de GitHub al aula virtual.`"
   ]
  },
  {
   "cell_type": "code",
   "execution_count": 1,
   "metadata": {},
   "outputs": [],
   "source": [
    "import re\n",
    "import pandas as pd\n",
    "\n",
    "from nltk.corpus import stopwords\n",
    "stopwords_sp = stopwords.words('spanish')\n",
    "\n",
    "from sklearn.feature_extraction.text import CountVectorizer"
   ]
  },
  {
   "cell_type": "markdown",
   "metadata": {},
   "source": [
    "# Punto 1: Pre-Procesamiento\n",
    "\n",
    "- `[11 pts]` Leer el archivo `dialogos.csv` usando `pandas`\n",
    "- `[11 pts]` Crear una nueva columna con el texto en minúscula, sin caracteres especiales ni números y sin palabras vacias"
   ]
  },
  {
   "cell_type": "code",
   "execution_count": 2,
   "metadata": {},
   "outputs": [
    {
     "data": {
      "text/html": [
       "<div>\n",
       "<style scoped>\n",
       "    .dataframe tbody tr th:only-of-type {\n",
       "        vertical-align: middle;\n",
       "    }\n",
       "\n",
       "    .dataframe tbody tr th {\n",
       "        vertical-align: top;\n",
       "    }\n",
       "\n",
       "    .dataframe thead th {\n",
       "        text-align: right;\n",
       "    }\n",
       "</style>\n",
       "<table border=\"1\" class=\"dataframe\">\n",
       "  <thead>\n",
       "    <tr style=\"text-align: right;\">\n",
       "      <th></th>\n",
       "      <th>Locución</th>\n",
       "    </tr>\n",
       "  </thead>\n",
       "  <tbody>\n",
       "    <tr>\n",
       "      <th>0</th>\n",
       "      <td>Francamente no</td>\n",
       "    </tr>\n",
       "    <tr>\n",
       "      <th>1</th>\n",
       "      <td>Lo del canadiense. Por favor, como que vosotro...</td>\n",
       "    </tr>\n",
       "    <tr>\n",
       "      <th>2</th>\n",
       "      <td>Tienes razón. A lo mejor así te liberas de tu ...</td>\n",
       "    </tr>\n",
       "    <tr>\n",
       "      <th>3</th>\n",
       "      <td>Pues, tú sabrás</td>\n",
       "    </tr>\n",
       "    <tr>\n",
       "      <th>4</th>\n",
       "      <td>Para mí que fue Krieger</td>\n",
       "    </tr>\n",
       "    <tr>\n",
       "      <th>...</th>\n",
       "      <td>...</td>\n",
       "    </tr>\n",
       "    <tr>\n",
       "      <th>954</th>\n",
       "      <td>Yo qué sé, digo yo qué será</td>\n",
       "    </tr>\n",
       "    <tr>\n",
       "      <th>955</th>\n",
       "      <td>Lo han entendido mal. Las joyas que venden en ...</td>\n",
       "    </tr>\n",
       "    <tr>\n",
       "      <th>956</th>\n",
       "      <td>Oooo... Me llamo Vivian</td>\n",
       "    </tr>\n",
       "    <tr>\n",
       "      <th>957</th>\n",
       "      <td>¿De dónde? ¿Del coño de tu madre?</td>\n",
       "    </tr>\n",
       "    <tr>\n",
       "      <th>958</th>\n",
       "      <td>Ah, sí esto podría funcionar</td>\n",
       "    </tr>\n",
       "  </tbody>\n",
       "</table>\n",
       "<p>959 rows × 1 columns</p>\n",
       "</div>"
      ],
      "text/plain": [
       "                                              Locución\n",
       "0                                       Francamente no\n",
       "1    Lo del canadiense. Por favor, como que vosotro...\n",
       "2    Tienes razón. A lo mejor así te liberas de tu ...\n",
       "3                                      Pues, tú sabrás\n",
       "4                              Para mí que fue Krieger\n",
       "..                                                 ...\n",
       "954                        Yo qué sé, digo yo qué será\n",
       "955  Lo han entendido mal. Las joyas que venden en ...\n",
       "956                            Oooo... Me llamo Vivian\n",
       "957                  ¿De dónde? ¿Del coño de tu madre?\n",
       "958                       Ah, sí esto podría funcionar\n",
       "\n",
       "[959 rows x 1 columns]"
      ]
     },
     "execution_count": 2,
     "metadata": {},
     "output_type": "execute_result"
    }
   ],
   "source": [
    "ruta='D:\\\\Users\\\\User\\\\Imágenes\\\\Especialización Analítica Estratégica de Datos\\\\Semestre II\\\\Electiva NLP\\\\Clase 4\\\\dialogos.csv'\n",
    "df_diag=pd.read_csv(ruta,sep=',',encoding='utf-8')\n",
    "df_diag"
   ]
  },
  {
   "cell_type": "code",
   "execution_count": 3,
   "metadata": {},
   "outputs": [
    {
     "data": {
      "text/html": [
       "<div>\n",
       "<style scoped>\n",
       "    .dataframe tbody tr th:only-of-type {\n",
       "        vertical-align: middle;\n",
       "    }\n",
       "\n",
       "    .dataframe tbody tr th {\n",
       "        vertical-align: top;\n",
       "    }\n",
       "\n",
       "    .dataframe thead th {\n",
       "        text-align: right;\n",
       "    }\n",
       "</style>\n",
       "<table border=\"1\" class=\"dataframe\">\n",
       "  <thead>\n",
       "    <tr style=\"text-align: right;\">\n",
       "      <th></th>\n",
       "      <th>Locución</th>\n",
       "      <th>pre-procesado</th>\n",
       "    </tr>\n",
       "  </thead>\n",
       "  <tbody>\n",
       "    <tr>\n",
       "      <th>0</th>\n",
       "      <td>Francamente no</td>\n",
       "      <td>francamente</td>\n",
       "    </tr>\n",
       "    <tr>\n",
       "      <th>1</th>\n",
       "      <td>Lo del canadiense. Por favor, como que vosotro...</td>\n",
       "      <td>canadiense favor tiraríais allí si pudieseis</td>\n",
       "    </tr>\n",
       "    <tr>\n",
       "      <th>2</th>\n",
       "      <td>Tienes razón. A lo mejor así te liberas de tu ...</td>\n",
       "      <td>razón mejor así liberas energía nagativa</td>\n",
       "    </tr>\n",
       "    <tr>\n",
       "      <th>3</th>\n",
       "      <td>Pues, tú sabrás</td>\n",
       "      <td>pues sabrás</td>\n",
       "    </tr>\n",
       "    <tr>\n",
       "      <th>4</th>\n",
       "      <td>Para mí que fue Krieger</td>\n",
       "      <td>krieger</td>\n",
       "    </tr>\n",
       "    <tr>\n",
       "      <th>...</th>\n",
       "      <td>...</td>\n",
       "      <td>...</td>\n",
       "    </tr>\n",
       "    <tr>\n",
       "      <th>954</th>\n",
       "      <td>Yo qué sé, digo yo qué será</td>\n",
       "      <td>sé digo</td>\n",
       "    </tr>\n",
       "    <tr>\n",
       "      <th>955</th>\n",
       "      <td>Lo han entendido mal. Las joyas que venden en ...</td>\n",
       "      <td>entendido mal joyas venden canales siquiera in...</td>\n",
       "    </tr>\n",
       "    <tr>\n",
       "      <th>956</th>\n",
       "      <td>Oooo... Me llamo Vivian</td>\n",
       "      <td>oooo llamo vivian</td>\n",
       "    </tr>\n",
       "    <tr>\n",
       "      <th>957</th>\n",
       "      <td>¿De dónde? ¿Del coño de tu madre?</td>\n",
       "      <td>dónde coño madre</td>\n",
       "    </tr>\n",
       "    <tr>\n",
       "      <th>958</th>\n",
       "      <td>Ah, sí esto podría funcionar</td>\n",
       "      <td>ah podría funcionar</td>\n",
       "    </tr>\n",
       "  </tbody>\n",
       "</table>\n",
       "<p>959 rows × 2 columns</p>\n",
       "</div>"
      ],
      "text/plain": [
       "                                              Locución  \\\n",
       "0                                       Francamente no   \n",
       "1    Lo del canadiense. Por favor, como que vosotro...   \n",
       "2    Tienes razón. A lo mejor así te liberas de tu ...   \n",
       "3                                      Pues, tú sabrás   \n",
       "4                              Para mí que fue Krieger   \n",
       "..                                                 ...   \n",
       "954                        Yo qué sé, digo yo qué será   \n",
       "955  Lo han entendido mal. Las joyas que venden en ...   \n",
       "956                            Oooo... Me llamo Vivian   \n",
       "957                  ¿De dónde? ¿Del coño de tu madre?   \n",
       "958                       Ah, sí esto podría funcionar   \n",
       "\n",
       "                                         pre-procesado  \n",
       "0                                          francamente  \n",
       "1         canadiense favor tiraríais allí si pudieseis  \n",
       "2             razón mejor así liberas energía nagativa  \n",
       "3                                          pues sabrás  \n",
       "4                                              krieger  \n",
       "..                                                 ...  \n",
       "954                                            sé digo  \n",
       "955  entendido mal joyas venden canales siquiera in...  \n",
       "956                                  oooo llamo vivian  \n",
       "957                                   dónde coño madre  \n",
       "958                                ah podría funcionar  \n",
       "\n",
       "[959 rows x 2 columns]"
      ]
     },
     "execution_count": 3,
     "metadata": {},
     "output_type": "execute_result"
    }
   ],
   "source": [
    "df_diag['pre-procesado']=df_diag['Locución'].astype(str)\n",
    "#df_diag['pre-procesado']=df_diag['pre-procesado'].str.lower()\n",
    "#df_diag['pre-procesado']=df_diag['pre-procesado'].str.strip()\n",
    "#df_diag['pre-procesado']=df_diag['pre-procesado'].apply(lambda x: re.sub(r\"[\\W\\d_]+\", \" \", x))\n",
    "\n",
    "#Lo anterior se reemplaza  en una sola línea\n",
    "df_diag['pre-procesado']=df_diag['pre-procesado'].str.lower().str.strip().apply(lambda x: re.sub(r\"[\\W\\d_]+\", \" \", x))\n",
    "df_diag['pre-procesado']=df_diag['pre-procesado'].str.split().apply(lambda x: [palabra for palabra in x if palabra not in stopwords_sp])\n",
    "df_diag['pre-procesado']= df_diag['pre-procesado'].apply(lambda x: ' '.join(map(str, x)))\n",
    "df_diag\n",
    "   "
   ]
  },
  {
   "cell_type": "markdown",
   "metadata": {},
   "source": [
    "# Punto 2: Representación vectorial\n",
    "\n",
    "- `[11 pts]` Crear una bolsa de palabras (BoW) del corpus usando la columna pre-procesada\n",
    "- `[11 pts]` ¿Cuántas palabras hay en el vocabulario? (Usando la función de `sklearn`)"
   ]
  },
  {
   "cell_type": "code",
   "execution_count": 4,
   "metadata": {},
   "outputs": [
    {
     "name": "stdout",
     "output_type": "stream",
     "text": [
      "[('juegas', 1), ('genitalios', 2), ('despeché', 3), ('agradecerte', 4), ('sentimientos', 5), ('semejante', 6), ('lamernos', 7), ('cubierto', 8), ('garage', 9), ('lineación', 10), ('domésticos', 11), ('burlarse', 12), ('contratado', 13), ('stanley', 14), ('olvídense', 15), ('disfrutamos', 16), ('abrochame', 17), ('operan', 18), ('oigo', 19), ('gustof', 20), ('sale', 21), ('bendíto', 22), ('lleves', 23), ('dejarme', 24), ('murió', 25), ('perder', 26), ('llevara', 27), ('saco', 28), ('cabrón', 29), ('recuerdos', 30), ('decir', 31), ('acuerdo', 32), ('hagámos', 33), ('si', 34), ('llevaría', 35), ('zona', 36), ('efectos', 37), ('váter', 38), ('beber', 39), ('acompañar', 40), ('preguntas', 41), ('duelen', 42), ('intente', 43), ('bebemos', 44), ('atrás', 45), ('ser', 46), ('resulta', 47), ('inaugural', 48), ('espaldas', 49), ('menos', 50), ('barra', 51), ('especial', 52), ('creemos', 53), ('ordenador', 54), ('burrito', 55), ('actos', 56), ('allí', 57), ('sido', 58), ('mirad', 59), ('venimos', 60), ('importantes', 61), ('leches', 62), ('preguntado', 63), ('blindado', 64), ('quedo', 65), ('caray', 66), ('dólares', 67), ('archivo', 68), ('pistola', 69), ('cojínes', 70), ('dentro', 71), ('consultemos', 72), ('alguna', 73), ('escoria', 74), ('cráneo', 75), ('procura', 76), ('llave', 77), ('pensaba', 78), ('palmadas', 79), ('felicidad', 80), ('dio', 81), ('disfrutar', 82), ('correrá', 83), ('navegantes', 84), ('tontería', 85), ('señala', 86), ('costó', 87), ('mexicano', 88), ('traicionó', 89), ('estableció', 90), ('bebas', 91), ('ofrecerías', 92), ('pisos', 93), ('key', 94), ('balas', 95), ('incluida', 96), ('usado', 97), ('quatorce', 98), ('definitivamente', 99), ('clavos', 100), ('bret', 101), ('reforzada', 102), ('primer', 103), ('finde', 104), ('alquimistas', 105), ('demos', 106), ('usa', 107), ('pago', 108), ('ocultarlo', 109), ('patches', 110), ('sosténes', 111), ('botiquín', 112), ('traficante', 113), ('hermanita', 114), ('siete', 115), ('gusto', 116), ('recordadme', 117), ('primo', 118), ('convertir', 119), ('entrando', 120), ('decía', 121), ('lunes', 122), ('sonreirémos', 123), ('skynet', 124), ('visto', 125), ('temas', 126), ('paties', 127), ('colarnos', 128), ('presionar', 129), ('proviene', 130), ('jugadas', 131), ('pondré', 132), ('multicampo', 133), ('refranes', 134), ('pastor', 135), ('bastante', 136), ('interesantes', 137), ('comprendemos', 138), ('iluminarse', 139), ('puta', 140), ('decirémos', 141), ('lleguen', 142), ('haber', 143), ('cordón', 144), ('esfuerzo', 145), ('regla', 146), ('producto', 147), ('haciendo', 148), ('yurta', 149), ('bajos', 150), ('crecido', 151), ('peligroso', 152), ('debo', 153), ('digan', 154), ('normal', 155), ('pierde', 156), ('haces', 157), ('mirándolo', 158), ('espero', 159), ('mejorar', 160), ('pareczo', 161), ('espalda', 162), ('verte', 163), ('fundimos', 164), ('iban', 165), ('acaba', 166), ('crearla', 167), ('jueguen', 168), ('oblígame', 169), ('novatos', 170), ('conseguido', 171), ('violadores', 172), ('innecesariamente', 173), ('acuerdas', 174), ('tener', 175), ('bebe', 176), ('limusina', 177), ('uah', 178), ('tomemos', 179), ('primera', 180), ('delantera', 181), ('llamar', 182), ('creer', 183), ('generoso', 184), ('confundido', 185), ('área', 186), ('salidos', 187), ('buen', 188), ('cosa', 189), ('brasileño', 190), ('edad', 191), ('aire', 192), ('jodo', 193), ('compasiva', 194), ('seguro', 195), ('fuma', 196), ('plan', 197), ('culpable', 198), ('van', 199), ('aqui', 200), ('abrazos', 201), ('suelen', 202), ('hola', 203), ('pelotas', 204), ('chúpamela', 205), ('veinte', 206), ('falta', 207), ('altura', 208), ('contar', 209), ('permiteme', 210), ('tal', 211), ('tendrémos', 212), ('frase', 213), ('conductos', 214), ('guardadas', 215), ('sistema', 216), ('pensarlo', 217), ('relleno', 218), ('teléfonos', 219), ('tanzanita', 220), ('ridículo', 221), ('queríamos', 222), ('órdenes', 223), ('uniformes', 224), ('pagar', 225), ('tetfield', 226), ('pensando', 227), ('da', 228), ('tomar', 229), ('recuerdenlo', 230), ('acabó', 231), ('cartas', 232), ('pido', 233), ('bourbon', 234), ('maldíta', 235), ('emociona', 236), ('camradería', 237), ('streling', 238), ('puedes', 239), ('cubrirá', 240), ('jolín', 241), ('joderla', 242), ('copas', 243), ('necesites', 244), ('negociar', 245), ('maldíto', 246), ('cámara', 247), ('liga', 248), ('marcador', 249), ('buscad', 250), ('miente', 251), ('sentir', 252), ('atrapa', 253), ('sucios', 254), ('parió', 255), ('jefe', 256), ('haz', 257), ('colocar', 258), ('sarcasmo', 259), ('cómo', 260), ('abastecido', 261), ('nervioso', 262), ('sabía', 263), ('personas', 264), ('andabamos', 265), ('feliz', 266), ('mejoró', 267), ('cagando', 268), ('desangrando', 269), ('cloro', 270), ('esprema', 271), ('efectivo', 272), ('pasar', 273), ('idiota', 274), ('decirme', 275), ('profesional', 276), ('llega', 277), ('pedido', 278), ('triste', 279), ('ponerme', 280), ('informático', 281), ('claudia', 282), ('esperé', 283), ('cuesta', 284), ('ocurrir', 285), ('mai', 286), ('tacos', 287), ('carajos', 288), ('dos', 289), ('clyde', 290), ('ayudarían', 291), ('armado', 292), ('humo', 293), ('k', 294), ('escuchar', 295), ('envidia', 296), ('lado', 297), ('capital', 298), ('ojalá', 299), ('pasarlo', 300), ('ancianos', 301), ('gorda', 302), ('cambios', 303), ('perro', 304), ('saca', 305), ('cheryl', 306), ('dijeron', 307), ('perstigioso', 308), ('daba', 309), ('puede', 310), ('aubuelo', 311), ('algún', 312), ('malo', 313), ('compra', 314), ('pam', 315), ('tres', 316), ('pan', 317), ('cambio', 318), ('llamo', 319), ('gritan', 320), ('ancha', 321), ('amenaza', 322), ('llegar', 323), ('quise', 324), ('hico', 325), ('ido', 326), ('nieto', 327), ('notaria', 328), ('cuatrao', 329), ('listo', 330), ('ahora', 331), ('llámame', 332), ('pudiera', 333), ('encargados', 334), ('recuerda', 335), ('espermas', 336), ('quere', 337), ('vez', 338), ('acaso', 339), ('poner', 340), ('compramos', 341), ('quiera', 342), ('estáte', 343), ('gaylandia', 344), ('asta', 345), ('tarjeta', 346), ('especiales', 347), ('parece', 348), ('supongo', 349), ('creía', 350), ('implicaré', 351), ('quítate', 352), ('deberías', 353), ('sabe', 354), ('pego', 355), ('amo', 356), ('escuche', 357), ('juntos', 358), ('conmocionado', 359), ('sujeto', 360), ('grámos', 361), ('inventor', 362), ('dispararon', 363), ('randy', 364), ('eh', 365), ('lógica', 366), ('dando', 367), ('directa', 368), ('buenas', 369), ('conmociones', 370), ('gritar', 371), ('podríamos', 372), ('maneja', 373), ('tome', 374), ('regresemos', 375), ('villy', 376), ('junto', 377), ('correcto', 378), ('india', 379), ('lugares', 380), ('avión', 381), ('tiro', 382), ('identificación', 383), ('alumnos', 384), ('equación', 385), ('cinco', 386), ('cánada', 387), ('botellitas', 388), ('siguiera', 389), ('claro', 390), ('mente', 391), ('ayuda', 392), ('token', 393), ('canadá', 394), ('casi', 395), ('perfecto', 396), ('cantante', 397), ('topo', 398), ('freelance', 399), ('enfestar', 400), ('pidiendo', 401), ('preocupado', 402), ('dama', 403), ('creerlo', 404), ('vuelvas', 405), ('aptece', 406), ('traicioneros', 407), ('craqueoso', 408), ('claramente', 409), ('cuarto', 410), ('perfil', 411), ('cena', 412), ('corbata', 413), ('ayer', 414), ('rayo', 415), ('negamos', 416), ('todas', 417), ('cabrones', 418), ('denver', 419), ('martín', 420), ('trabajamos', 421), ('llamarlos', 422), ('bienvenidos', 423), ('empezar', 424), ('recuerdas', 425), ('horatio', 426), ('jackson', 427), ('necesito', 428), ('conoce', 429), ('gustará', 430), ('buena', 431), ('tío', 432), ('mali', 433), ('varios', 434), ('escuchen', 435), ('duda', 436), ('alzheimer', 437), ('manera', 438), ('hago', 439), ('retiramos', 440), ('sacarlo', 441), ('bueno', 442), ('maldita', 443), ('oh', 444), ('rojo', 445), ('pensé', 446), ('oso', 447), ('metería', 448), ('ocupe', 449), ('llevarse', 450), ('inicial', 451), ('puñalada', 452), ('ley', 453), ('quidaras', 454), ('supergay', 455), ('collar', 456), ('querré', 457), ('analogía', 458), ('años', 459), ('sufriendo', 460), ('igual', 461), ('repente', 462), ('deberíamos', 463), ('darte', 464), ('aprovechen', 465), ('jodemos', 466), ('llevaré', 467), ('roba', 468), ('vimos', 469), ('permiten', 470), ('complicado', 471), ('véte', 472), ('quizá', 473), ('mejorarlo', 474), ('secuencia', 475), ('sabían', 476), ('burdel', 477), ('afortunados', 478), ('parezcas', 479), ('estadísticas', 480), ('descortéz', 481), ('anuales', 482), ('cogerlas', 483), ('aretes', 484), ('pues', 485), ('secas', 486), ('mire', 487), ('camaradería', 488), ('sarcástico', 489), ('hacéis', 490), ('líamos', 491), ('refería', 492), ('color', 493), ('broncos', 494), ('pesadilla', 495), ('escocés', 496), ('legal', 497), ('divertiste', 498), ('muchísimas', 499), ('comprenlo', 500), ('gusta', 501), ('pendiente', 502), ('tradicional', 503), ('hermosura', 504), ('sarcásticos', 505), ('super', 506), ('sigas', 507), ('hacerle', 508), ('libre', 509), ('bondad', 510), ('oídos', 511), ('asiática', 512), ('come', 513), ('pasó', 514), ('sterling', 515), ('aunque', 516), ('consiento', 517), ('carajo', 518), ('torpe', 519), ('seguidores', 520), ('detuvo', 521), ('poder', 522), ('vivian', 523), ('crece', 524), ('contento', 525), ('ganan', 526), ('creciente', 527), ('trabajo', 528), ('ropa', 529), ('amamos', 530), ('deportes', 531), ('veía', 532), ('salirse', 533), ('puesto', 534), ('gustarán', 535), ('billones', 536), ('ocasión', 537), ('persona', 538), ('llevar', 539), ('limón', 540), ('tí', 541), ('reales', 542), ('salir', 543), ('foto', 544), ('aliado', 545), ('saquen', 546), ('oakland', 547), ('necesitaré', 548), ('frente', 549), ('va', 550), ('tocado', 551), ('dijo', 552), ('matáis', 553), ('malísima', 554), ('podrías', 555), ('mala', 556), ('paso', 557), ('browns', 558), ('hablo', 559), ('hermosos', 560), ('hijo', 561), ('encantará', 562), ('guardarla', 563), ('sostén', 564), ('sitio', 565), ('horas', 566), ('importante', 567), ('devolvemos', 568), ('vagamente', 569), ('asustar', 570), ('guardarlo', 571), ('puntos', 572), ('funcionará', 573), ('caso', 574), ('producen', 575), ('veas', 576), ('butters', 577), ('infromación', 578), ('familiar', 579), ('transferencia', 580), ('estabáis', 581), ('crear', 582), ('busca', 583), ('actor', 584), ('llevamos', 585), ('tremendo', 586), ('defensor', 587), ('cerveza', 588), ('semana', 589), ('canal', 590), ('futbol', 591), ('cara', 592), ('parecerse', 593), ('cada', 594), ('negocio', 595), ('sólidas', 596), ('deje', 597), ('cualquiera', 598), ('licores', 599), ('aceptamos', 600), ('intención', 601), ('debilidad', 602), ('millones', 603), ('ocurren', 604), ('enojemos', 605), ('imbéciles', 606), ('pateamos', 607), ('cansamos', 608), ('distinguir', 609), ('materna', 610), ('gruño', 611), ('jodedor', 612), ('argentio', 613), ('pasado', 614), ('gramo', 615), ('pillarte', 616), ('damos', 617), ('mentiste', 618), ('corten', 619), ('dar', 620), ('sede', 621), ('ganador', 622), ('diez', 623), ('motél', 624), ('identidad', 625), ('usarla', 626), ('cal', 627), ('felices', 628), ('proteger', 629), ('ofrecer', 630), ('asustó', 631), ('laboral', 632), ('camisa', 633), ('bolas', 634), ('callados', 635), ('fundir', 636), ('regalado', 637), ('sharon', 638), ('jim', 639), ('sudamérica', 640), ('mitade', 641), ('sube', 642), ('entrenarlos', 643), ('oferta', 644), ('reformar', 645), ('hora', 646), ('bell', 647), ('agradezca', 648), ('dónde', 649), ('perdidio', 650), ('mucha', 651), ('quizás', 652), ('fastidiarse', 653), ('cosquillas', 654), ('preocupados', 655), ('antimatéria', 656), ('quedarás', 657), ('oro', 658), ('comunicamos', 659), ('quienquiera', 660), ('exagera', 661), ('podría', 662), ('joder', 663), ('salchichas', 664), ('quedará', 665), ('fondos', 666), ('huecos', 667), ('pondría', 668), ('presidente', 669), ('costoso', 670), ('aseguro', 671), ('necesidad', 672), ('armas', 673), ('buenos', 674), ('gregors', 675), ('contrario', 676), ('intentado', 677), ('cuadras', 678), ('campo', 679), ('papá', 680), ('sólidos', 681), ('quedaba', 682), ('atleta', 683), ('árbitros', 684), ('insultos', 685), ('lindo', 686), ('resuelven', 687), ('vendría', 688), ('cia', 689), ('puñalara', 690), ('g', 691), ('sostenes', 692), ('salió', 693), ('subid', 694), ('viene', 695), ('sueños', 696), ('llevando', 697), ('conway', 698), ('prohibe', 699), ('sedes', 700), ('sufro', 701), ('rato', 702), ('avanzan', 703), ('elección', 704), ('saber', 705), ('ultramoderna', 706), ('varias', 707), ('tiraríais', 708), ('ex', 709), ('keith', 710), ('nevera', 711), ('precio', 712), ('matas', 713), ('sacarte', 714), ('recibe', 715), ('siguiente', 716), ('venden', 717), ('amigos', 718), ('levanta', 719), ('stillers', 720), ('seguridad', 721), ('alta', 722), ('descubierto', 723), ('siento', 724), ('vender', 725), ('recargando', 726), ('escaleras', 727), ('noches', 728), ('vuelve', 729), ('quieto', 730), ('calle', 731), ('secuestrado', 732), ('tirarte', 733), ('fotos', 734), ('tiros', 735), ('minutos', 736), ('intentaron', 737), ('verbo', 738), ('pequeña', 739), ('investigaciones', 740), ('felicitaciones', 741), ('guardaré', 742), ('punto', 743), ('mega', 744), ('problema', 745), ('provocar', 746), ('tejido', 747), ('encantaría', 748), ('llevo', 749), ('ah', 750), ('rey', 751), ('himno', 752), ('pienso', 753), ('determinen', 754), ('terminar', 755), ('empeño', 756), ('robando', 757), ('cuidar', 758), ('cáncer', 759), ('cadena', 760), ('mal', 761), ('contado', 762), ('verdadero', 763), ('niña', 764), ('verdadera', 765), ('uh', 766), ('brújula', 767), ('padre', 768), ('apta', 769), ('madre', 770), ('retribución', 771), ('frecuente', 772), ('prácticamente', 773), ('llama', 774), ('caballero', 775), ('cuarenta', 776), ('homófoba', 777), ('subir', 778), ('tipo', 779), ('peluche', 780), ('mani', 781), ('cargar', 782), ('prometer', 783), ('literalmente', 784), ('francesa', 785), ('queda', 786), ('cincuenta', 787), ('hijos', 788), ('mover', 789), ('propulsor', 790), ('callas', 791), ('oído', 792), ('darle', 793), ('habitación', 794), ('serio', 795), ('ocho', 796), ('patos', 797), ('siempre', 798), ('conversación', 799), ('escansará', 800), ('paracaigas', 801), ('amor', 802), ('enrique', 803), ('kilítos', 804), ('ascani', 805), ('hablamos', 806), ('igualíto', 807), ('intenten', 808), ('quiénes', 809), ('gordado', 810), ('gente', 811), ('pena', 812), ('comer', 813), ('decirte', 814), ('confidencial', 815), ('prioridad', 816), ('dije', 817), ('uuh', 818), ('cabra', 819), ('ojos', 820), ('jugando', 821), ('símbolo', 822), ('abracense', 823), ('fundió', 824), ('violencia', 825), ('cierra', 826), ('majo', 827), ('negativo', 828), ('crédito', 829), ('tb', 830), ('año', 831), ('botella', 832), ('abrazan', 833), ('molesta', 834), ('tapadera', 835), ('cientos', 836), ('m', 837), ('quieren', 838), ('contexto', 839), ('equivocado', 840), ('usas', 841), ('confunden', 842), ('vuelva', 843), ('voy', 844), ('traidor', 845), ('vestidos', 846), ('estudiando', 847), ('robó', 848), ('atreven', 849), ('puñalarme', 850), ('china', 851), ('pregunta', 852), ('parar', 853), ('parecido', 854), ('mate', 855), ('excusado', 856), ('archer', 857), ('quitado', 858), ('seguiste', 859), ('sinceridad', 860), ('ven', 861), ('increíble', 862), ('mamá', 863), ('saludarás', 864), ('experiencia', 865), ('llevan', 866), ('sabrán', 867), ('centro', 868), ('sucia', 869), ('víctimas', 870), ('nfl', 871), ('aprendimos', 872), ('lentamente', 873), ('américa', 874), ('pachata', 875), ('aprovecharse', 876), ('sesiones', 877), ('enfrentamiento', 878), ('deporte', 879), ('tono', 880), ('violador', 881), ('rimó', 882), ('jodiéndola', 883), ('mano', 884), ('comprarles', 885), ('ayudarémos', 886), ('loco', 887), ('controles', 888), ('demás', 889), ('dividimos', 890), ('ocurrió', 891), ('sacará', 892), ('oooo', 893), ('llamé', 894), ('siquiera', 895), ('entendemos', 896), ('olvidarme', 897), ('peletero', 898), ('muchas', 899), ('deciendo', 900), ('quiere', 901), ('cállate', 902), ('ten', 903), ('saben', 904), ('viejo', 905), ('pegado', 906), ('beba', 907), ('cabrearme', 908), ('hablemos', 909), ('acceso', 910), ('mayor', 911), ('sumamos', 912), ('modificando', 913), ('seguimos', 914), ('leído', 915), ('acompaña', 916), ('ello', 917), ('advierto', 918), ('partir', 919), ('esmeraldas', 920), ('capas', 921), ('diamantes', 922), ('fastidies', 923), ('sacad', 924), ('caña', 925), ('disfrutando', 926), ('pai', 927), ('oigan', 928), ('interrupciones', 929), ('azúcar', 930), ('nagativa', 931), ('siglos', 932), ('presidencia', 933), ('disparan', 934), ('domingo', 935), ('comenzar', 936), ('esposa', 937), ('servidor', 938), ('cabras', 939), ('hermana', 940), ('cosas', 941), ('sangre', 942), ('decirles', 943), ('cruzado', 944), ('envían', 945), ('partida', 946), ('móvil', 947), ('bigotón', 948), ('craig', 949), ('caríta', 950), ('reunión', 951), ('joden', 952), ('sacas', 953), ('familiares', 954), ('mujer', 955), ('necesarias', 956), ('todavía', 957), ('alias', 958), ('arriba', 959), ('conduce', 960), ('venganza', 961), ('pruebas', 962), ('datos', 963), ('relajar', 964), ('día', 965), ('aviso', 966), ('rusos', 967), ('slater', 968), ('francamente', 969), ('tienda', 970), ('irónico', 971), ('sino', 972), ('meta', 973), ('memoria', 974), ('atención', 975), ('payton', 976), ('stan', 977), ('stern', 978), ('patear', 979), ('decirle', 980), ('tomo', 981), ('osíto', 982), ('intenta', 983), ('quedaría', 984), ('energía', 985), ('guapa', 986), ('corazón', 987), ('abrazar', 988), ('cristal', 989), ('busco', 990), ('paralelo', 991), ('acero', 992), ('kyle', 993), ('clave', 994), ('genial', 995), ('negro', 996), ('cremoso', 997), ('genios', 998), ('permanente', 999), ('señor', 1000), ('nunca', 1001), ('llames', 1002), ('juegen', 1003), ('pobre', 1004), ('muchachas', 1005), ('elegir', 1006), ('idiotas', 1007), ('díle', 1008), ('ponerte', 1009), ('concozco', 1010), ('salgan', 1011), ('poniendo', 1012), ('amigo', 1013), ('maravilloso', 1014), ('comienzan', 1015), ('cabecíta', 1016), ('sopearte', 1017), ('bebés', 1018), ('jilibollas', 1019), ('cascos', 1020), ('krieger', 1021), ('cría', 1022), ('deportiva', 1023), ('cuestan', 1024), ('muchísimo', 1025), ('usando', 1026), ('ben', 1027), ('debemos', 1028), ('gas', 1029), ('cree', 1030), ('piensas', 1031), ('paquistaní', 1032), ('robaron', 1033), ('dícelo', 1034), ('conté', 1035), ('voluntad', 1036), ('real', 1037), ('podía', 1038), ('europa', 1039), ('sujetes', 1040), ('interpretar', 1041), ('estudo', 1042), ('prometo', 1043), ('imaginario', 1044), ('carambola', 1045), ('sueño', 1046), ('detrás', 1047), ('noventa', 1048), ('futból', 1049), ('prueba', 1050), ('pilas', 1051), ('oy', 1052), ('cartman', 1053), ('descaradamente', 1054), ('cabo', 1055), ('quince', 1056), ('excesivo', 1057), ('mejora', 1058), ('quisiera', 1059), ('ponedlas', 1060), ('comprador', 1061), ('interior', 1062), ('calrissiano', 1063), ('woodly', 1064), ('rancasteis', 1065), ('imbécil', 1066), ('acceder', 1067), ('lleno', 1068), ('pastel', 1069), ('acercarse', 1070), ('asunto', 1071), ('darme', 1072), ('enfermedad', 1073), ('rico', 1074), ('safiros', 1075), ('siguen', 1076), ('apellido', 1077), ('jugarlo', 1078), ('escolares', 1079), ('desangras', 1080), ('voz', 1081), ('hablando', 1082), ('ofrezco', 1083), ('escáneo', 1084), ('hecho', 1085), ('ofensiva', 1086), ('corbatíta', 1087), ('batido', 1088), ('siendo', 1089), ('florecente', 1090), ('veo', 1091), ('entregarte', 1092), ('despeto', 1093), ('faux', 1094), ('consigo', 1095), ('pongamoslo', 1096), ('arrancó', 1097), ('servicios', 1098), ('puerta', 1099), ('competitividad', 1100), ('quería', 1101), ('buscando', 1102), ('único', 1103), ('dejado', 1104), ('esperma', 1105), ('alguien', 1106), ('nadie', 1107), ('ay', 1108), ('realmente', 1109), ('estó', 1110), ('información', 1111), ('parte', 1112), ('siesta', 1113), ('tan', 1114), ('llamas', 1115), ('barbaridades', 1116), ('concentrémonos', 1117), ('escapan', 1118), ('totalmente', 1119), ('lograr', 1120), ('jodía', 1121), ('cuenta', 1122), ('robado', 1123), ('dado', 1124), ('humanidad', 1125), ('méxicano', 1126), ('aires', 1127), ('terminen', 1128), ('saldrémos', 1129), ('éxito', 1130), ('mercado', 1131), ('jugo', 1132), ('ofrecerte', 1133), ('chovinista', 1134), ('woodhouse', 1135), ('canadiense', 1136), ('enviarlo', 1137), ('llamado', 1138), ('apoyo', 1139), ('portado', 1140), ('principal', 1141), ('tragado', 1142), ('seaís', 1143), ('volveré', 1144), ('infierno', 1145), ('realidad', 1146), ('salvo', 1147), ('dices', 1148), ('despistar', 1149), ('park', 1150), ('apuntado', 1151), ('nueva', 1152), ('conocéis', 1153), ('ciego', 1154), ('gustaría', 1155), ('avisarme', 1156), ('existe', 1157), ('cuántas', 1158), ('sabes', 1159), ('ponle', 1160), ('frivolidades', 1161), ('aún', 1162), ('descubra', 1163), ('doctor', 1164), ('vienes', 1165), ('mansiones', 1166), ('río', 1167), ('trabaja', 1168), ('cuatro', 1169), ('cochecíto', 1170), ('volar', 1171), ('espectadores', 1172), ('contarle', 1173), ('primero', 1174), ('sofá', 1175), ('escuela', 1176), ('maquillaron', 1177), ('mejor', 1178), ('país', 1179), ('vestidor', 1180), ('homofóbico', 1181), ('visita', 1182), ('jamontillado', 1183), ('nacional', 1184), ('mueras', 1185), ('figuro', 1186), ('pelo', 1187), ('quete', 1188), ('contentísimo', 1189), ('desintoxicándose', 1190), ('aprovecha', 1191), ('única', 1192), ('cúbreme', 1193), ('veímos', 1194), ('broma', 1195), ('vergón', 1196), ('saluda', 1197), ('línea', 1198), ('kay', 1199), ('par', 1200), ('féliz', 1201), ('necesitamos', 1202), ('vase', 1203), ('crees', 1204), ('ésa', 1205), ('golpeen', 1206), ('necesario', 1207), ('mike', 1208), ('heróico', 1209), ('gran', 1210), ('sincero', 1211), ('entendido', 1212), ('casa', 1213), ('miles', 1214), ('usan', 1215), ('ciberosíto', 1216), ('escuelas', 1217), ('significaba', 1218), ('perdón', 1219), ('tíos', 1220), ('joventud', 1221), ('lindas', 1222), ('cubrirlo', 1223), ('rayos', 1224), ('abuelo', 1225), ('viejos', 1226), ('idea', 1227), ('romper', 1228), ('compasión', 1229), ('tiempo', 1230), ('ira', 1231), ('aprovechar', 1232), ('ustedes', 1233), ('tantos', 1234), ('accidentes', 1235), ('autorizada', 1236), ('liberas', 1237), ('inmaduro', 1238), ('gane', 1239), ('geniales', 1240), ('uy', 1241), ('algúno', 1242), ('valiosas', 1243), ('capaz', 1244), ('nuevo', 1245), ('disparado', 1246), ('favor', 1247), ('pasa', 1248), ('cutre', 1249), ('mexicanos', 1250), ('esqueleto', 1251), ('bien', 1252), ('preparas', 1253), ('comerciales', 1254), ('arrancaste', 1255), ('sacado', 1256), ('mujeres', 1257), ('provienen', 1258), ('excusa', 1259), ('jodas', 1260), ('explotan', 1261), ('gicante', 1262), ('ábrelo', 1263), ('poker', 1264), ('archerizar', 1265), ('operación', 1266), ('boom', 1267), ('improbable', 1268), ('cuanto', 1269), ('genuinos', 1270), ('relación', 1271), ('confundirme', 1272), ('ventana', 1273), ('demasiado', 1274), ('multiracial', 1275), ('oficial', 1276), ('ventas', 1277), ('terríble', 1278), ('dame', 1279), ('isis', 1280), ('bebé', 1281), ('negors', 1282), ('explicar', 1283), ('acorazada', 1284), ('hacia', 1285), ('puse', 1286), ('debe', 1287), ('litros', 1288), ('tac', 1289), ('sábado', 1290), ('durmiendo', 1291), ('división', 1292), ('baruk', 1293), ('mierda', 1294), ('lleva', 1295), ('acerca', 1296), ('compasíbles', 1297), ('ríe', 1298), ('laboratorio', 1299), ('gustan', 1300), ('llamó', 1301), ('harás', 1302), ('franco', 1303), ('esperándome', 1304), ('voto', 1305), ('contárselo', 1306), ('justo', 1307), ('decías', 1308), ('cuatorce', 1309), ('inteligencia', 1310), ('vacía', 1311), ('ofrece', 1312), ('cartel', 1313), ('cenar', 1314), ('movimiento', 1315), ('vamos', 1316), ('empanada', 1317), ('pueda', 1318), ('cíborg', 1319), ('ojo', 1320), ('shelly', 1321), ('suficientes', 1322), ('amenazar', 1323), ('ninguna', 1324), ('cagar', 1325), ('sigo', 1326), ('papás', 1327), ('posan', 1328), ('criar', 1329), ('sospechábamos', 1330), ('quieres', 1331), ('acabado', 1332), ('chinos', 1333), ('simulacro', 1334), ('stines', 1335), ('cremosidad', 1336), ('podido', 1337), ('traer', 1338), ('oye', 1339), ('improvisaciones', 1340), ('masticaras', 1341), ('vendrá', 1342), ('sombreros', 1343), ('queremos', 1344), ('turquesa', 1345), ('hmm', 1346), ('felizidad', 1347), ('gastaste', 1348), ('grandes', 1349), ('regresando', 1350), ('sabemos', 1351), ('cierto', 1352), ('verás', 1353), ('verla', 1354), ('representante', 1355), ('hospitalidad', 1356), ('miren', 1357), ('ver', 1358), ('montar', 1359), ('deben', 1360), ('pipa', 1361), ('mentirosa', 1362), ('días', 1363), ('nueve', 1364), ('brasil', 1365), ('calor', 1366), ('aspirante', 1367), ('david', 1368), ('compromiso', 1369), ('desempeño', 1370), ('despierto', 1371), ('usted', 1372), ('fácil', 1373), ('enmendarlo', 1374), ('excusas', 1375), ('jerez', 1376), ('imigración', 1377), ('pudieseis', 1378), ('pillar', 1379), ('harrys', 1380), ('ayudarme', 1381), ('cartél', 1382), ('cargando', 1383), ('practicamos', 1384), ('escupieras', 1385), ('misión', 1386), ('corriendo', 1387), ('descansan', 1388), ('rescatarte', 1389), ('continúe', 1390), ('leche', 1391), ('padres', 1392), ('extrañará', 1393), ('basa', 1394), ('x', 1395), ('hueca', 1396), ('lastimado', 1397), ('pico', 1398), ('conocido', 1399), ('comenzó', 1400), ('puedas', 1401), ('pasarse', 1402), ('hombro', 1403), ('entiendes', 1404), ('decírselo', 1405), ('además', 1406), ('jodiendo', 1407), ('lugar', 1408), ('último', 1409), ('apuesto', 1410), ('comodines', 1411), ('disculpe', 1412), ('dicho', 1413), ('así', 1414), ('hablarémos', 1415), ('hable', 1416), ('argentina', 1417), ('excelente', 1418), ('retina', 1419), ('enémigo', 1420), ('robotizado', 1421), ('pregunto', 1422), ('pongas', 1423), ('south', 1424), ('lana', 1425), ('cantidades', 1426), ('luego', 1427), ('pocos', 1428), ('globo', 1429), ('mes', 1430), ('locos', 1431), ('cuija', 1432), ('parecen', 1433), ('adreza', 1434), ('cuidado', 1435), ('cin', 1436), ('hace', 1437), ('cago', 1438), ('quedaríamos', 1439), ('dólar', 1440), ('porquería', 1441), ('esclavizados', 1442), ('precios', 1443), ('recuerdo', 1444), ('razón', 1445), ('diste', 1446), ('vuelvo', 1447), ('amabilidad', 1448), ('dios', 1449), ('sol', 1450), ('decidíamos', 1451), ('j', 1452), ('acabas', 1453), ('duro', 1454), ('virgen', 1455), ('tenerla', 1456), ('investigación', 1457), ('esperando', 1458), ('sentiría', 1459), ('significa', 1460), ('intentan', 1461), ('culebrón', 1462), ('racista', 1463), ('servicio', 1464), ('confiar', 1465), ('intentar', 1466), ('imponentes', 1467), ('latino', 1468), ('chicos', 1469), ('marca', 1470), ('amistad', 1471), ('esperar', 1472), ('seis', 1473), ('bolsa', 1474), ('dan', 1475), ('comprar', 1476), ('encragaré', 1477), ('dejar', 1478), ('profesionales', 1479), ('pegas', 1480), ('peligrosas', 1481), ('espera', 1482), ('exceso', 1483), ('tóma', 1484), ('skymal', 1485), ('volver', 1486), ('gastar', 1487), ('lamentamos', 1488), ('terraza', 1489), ('preocupes', 1490), ('vida', 1491), ('dispararme', 1492), ('provoca', 1493), ('odia', 1494), ('toda', 1495), ('intento', 1496), ('alguién', 1497), ('pásalo', 1498), ('genéticas', 1499), ('entusiasma', 1500), ('entrega', 1501), ('cinquenta', 1502), ('vendemos', 1503), ('despechada', 1504), ('café', 1505), ('chisme', 1506), ('sigues', 1507), ('terminarse', 1508), ('compasivo', 1509), ('sólo', 1510), ('ciertamente', 1511), ('avergonzarse', 1512), ('vas', 1513), ('jugador', 1514), ('maestros', 1515), ('cogerla', 1516), ('acepta', 1517), ('falsos', 1518), ('haga', 1519), ('perdido', 1520), ('miro', 1521), ('niño', 1522), ('entrenador', 1523), ('lucen', 1524), ('menudo', 1525), ('sirven', 1526), ('hacemos', 1527), ('guardar', 1528), ('asiáticas', 1529), ('dispares', 1530), ('extra', 1531), ('maldito', 1532), ('llamativo', 1533), ('minuto', 1534), ('invito', 1535), ('olvidémonos', 1536), ('hai', 1537), ('sacamos', 1538), ('empiezo', 1539), ('llamen', 1540), ('parado', 1541), ('aluminio', 1542), ('esperad', 1543), ('evitar', 1544), ('washington', 1545), ('término', 1546), ('viviría', 1547), ('jugadores', 1548), ('listos', 1549), ('cuestión', 1550), ('duró', 1551), ('sagrado', 1552), ('segura', 1553), ('jordana', 1554), ('funciona', 1555), ('pueden', 1556), ('debería', 1557), ('deseado', 1558), ('nuevos', 1559), ('bárbaros', 1560), ('digo', 1561), ('suerte', 1562), ('cambiará', 1563), ('eráis', 1564), ('mata', 1565), ('pibe', 1566), ('lastimen', 1567), ('empleado', 1568), ('bébe', 1569), ('prestame', 1570), ('impresionar', 1571), ('proveyó', 1572), ('daño', 1573), ('cielos', 1574), ('bienvenido', 1575), ('necesita', 1576), ('preocupación', 1577), ('verá', 1578), ('comprará', 1579), ('eric', 1580), ('paquistán', 1581), ('derrotar', 1582), ('alegre', 1583), ('refrán', 1584), ('creo', 1585), ('strip', 1586), ('pinta', 1587), ('papel', 1588), ('habernos', 1589), ('timó', 1590), ('misma', 1591), ('pedir', 1592), ('lexington', 1593), ('chupe', 1594), ('venta', 1595), ('moda', 1596), ('preocupa', 1597), ('quede', 1598), ('pidiera', 1599), ('buscar', 1600), ('desgraciado', 1601), ('brazaleta', 1602), ('ofertas', 1603), ('practicar', 1604), ('futuro', 1605), ('mundo', 1606), ('matemática', 1607), ('bando', 1608), ('tomen', 1609), ('vuélvete', 1610), ('arma', 1611), ('prefiero', 1612), ('agentes', 1613), ('playa', 1614), ('brasilia', 1615), ('ves', 1616), ('puedo', 1617), ('divertido', 1618), ('jugar', 1619), ('bikini', 1620), ('ocupado', 1621), ('disparar', 1622), ('platos', 1623), ('tranquila', 1624), ('mismo', 1625), ('niños', 1626), ('secreto', 1627), ('sácale', 1628), ('hizo', 1629), ('amables', 1630), ('fallecer', 1631), ('momento', 1632), ('llaves', 1633), ('v', 1634), ('licencia', 1635), ('pensamientos', 1636), ('agradecernos', 1637), ('llamara', 1638), ('realista', 1639), ('pérdida', 1640), ('lecciones', 1641), ('goodell', 1642), ('ochenta', 1643), ('ciencia', 1644), ('cuentas', 1645), ('brazaletes', 1646), ('nuevas', 1647), ('tecnología', 1648), ('detenernos', 1649), ('horneando', 1650), ('robot', 1651), ('bordado', 1652), ('refiero', 1653), ('dense', 1654), ('sabor', 1655), ('abracen', 1656), ('agotado', 1657), ('collares', 1658), ('quiero', 1659), ('trata', 1660), ('cañero', 1661), ('kane', 1662), ('crucial', 1663), ('mmm', 1664), ('pensar', 1665), ('canguro', 1666), ('encantan', 1667), ('preparamos', 1668), ('usar', 1669), ('desaparecido', 1670), ('animal', 1671), ('programa', 1672), ('castaña', 1673), ('aprendiendo', 1674), ('ve', 1675), ('entiendo', 1676), ('recibir', 1677), ('dejarle', 1678), ('patadas', 1679), ('caballeros', 1680), ('militar', 1681), ('conducir', 1682), ('pidió', 1683), ('ken', 1684), ('familia', 1685), ('traumas', 1686), ('soluciona', 1687), ('deportaran', 1688), ('auténticos', 1689), ('lleve', 1690), ('nube', 1691), ('monstruo', 1692), ('timarnos', 1693), ('compasivos', 1694), ('licor', 1695), ('aquí', 1696), ('saltar', 1697), ('jhonsson', 1698), ('bellici', 1699), ('mato', 1700), ('acabo', 1701), ('llevas', 1702), ('comisionato', 1703), ('custodiada', 1704), ('cien', 1705), ('hagamos', 1706), ('dudo', 1707), ('excuso', 1708), ('beberé', 1709), ('aplauso', 1710), ('negó', 1711), ('porcuro', 1712), ('fresco', 1713), ('toquecíto', 1714), ('equipo', 1715), ('mentía', 1716), ('ninguno', 1717), ('gentil', 1718), ('literalment', 1719), ('trajera', 1720), ('pasando', 1721), ('rendirse', 1722), ('demostrando', 1723), ('mientras', 1724), ('estúpido', 1725), ('wow', 1726), ('pasta', 1727), ('suelo', 1728), ('esperamos', 1729), ('dejarlo', 1730), ('terminó', 1731), ('volvería', 1732), ('cristi', 1733), ('mediante', 1734), ('decide', 1735), ('hoy', 1736), ('encima', 1737), ('señal', 1738), ('veamos', 1739), ('hablar', 1740), ('sesos', 1741), ('aburato', 1742), ('disco', 1743), ('cuentan', 1744), ('indica', 1745), ('amenazado', 1746), ('caemos', 1747), ('emocionante', 1748), ('juega', 1749), ('pobrecito', 1750), ('vieron', 1751), ('luces', 1752), ('maní', 1753), ('improvisable', 1754), ('cero', 1755), ('caja', 1756), ('pelígro', 1757), ('deseas', 1758), ('cerca', 1759), ('fiarme', 1760), ('sorpresas', 1761), ('piso', 1762), ('llamaría', 1763), ('llamarás', 1764), ('práctica', 1765), ('medio', 1766), ('tercera', 1767), ('montado', 1768), ('gracias', 1769), ('ocurriendo', 1770), ('solo', 1771), ('falsa', 1772), ('carácter', 1773), ('tirado', 1774), ('fundidor', 1775), ('televisión', 1776), ('nombre', 1777), ('eleve', 1778), ('confianza', 1779), ('haberle', 1780), ('enfermedades', 1781), ('ibas', 1782), ('última', 1783), ('cabeza', 1784), ('cojones', 1785), ('narices', 1786), ('grande', 1787), ('wohoo', 1788), ('palabra', 1789), ('conmigo', 1790), ('toman', 1791), ('hielo', 1792), ('placer', 1793), ('apunta', 1794), ('perdona', 1795), ('pusiste', 1796), ('inventó', 1797), ('vayas', 1798), ('química', 1799), ('rome', 1800), ('supuestos', 1801), ('matar', 1802), ('funcionar', 1803), ('laboralista', 1804), ('existen', 1805), ('salchicha', 1806), ('sentaré', 1807), ('atrape', 1808), ('cilo', 1809), ('conseguir', 1810), ('convertirlo', 1811), ('peor', 1812), ('hambre', 1813), ('intermediarios', 1814), ('armería', 1815), ('central', 1816), ('golpe', 1817), ('enormes', 1818), ('sufras', 1819), ('pistol', 1820), ('dispararan', 1821), ('refiere', 1822), ('esmeralda', 1823), ('valor', 1824), ('vale', 1825), ('cambiar', 1826), ('recuperar', 1827), ('fin', 1828), ('fuertemente', 1829), ('abrazas', 1830), ('verdad', 1831), ('ciber', 1832), ('salid', 1833), ('aha', 1834), ('podemos', 1835), ('dinero', 1836), ('doy', 1837), ('sacaste', 1838), ('rondie', 1839), ('interesante', 1840), ('vaya', 1841), ('kenny', 1842), ('meneara', 1843), ('veces', 1844), ('calvos', 1845), ('carrachi', 1846), ('viernes', 1847), ('harémos', 1848), ('culpa', 1849), ('cállaos', 1850), ('amable', 1851), ('abra', 1852), ('canguros', 1853), ('salto', 1854), ('biónica', 1855), ('copa', 1856), ('echar', 1857), ('pronuncia', 1858), ('vieja', 1859), ('compran', 1860), ('mostrar', 1861), ('ningún', 1862), ('selector', 1863), ('reventa', 1864), ('auto', 1865), ('cerebro', 1866), ('aquel', 1867), ('feas', 1868), ('burbón', 1869), ('disculpas', 1870), ('notación', 1871), ('tarde', 1872), ('mamada', 1873), ('hará', 1874), ('corbatas', 1875), ('árbitro', 1876), ('diarrea', 1877), ('mesas', 1878), ('maritin', 1879), ('averiguarémos', 1880), ('ligas', 1881), ('llevaba', 1882), ('maldítas', 1883), ('mira', 1884), ('malin', 1885), ('cerrado', 1886), ('pantalones', 1887), ('acabe', 1888), ('alegría', 1889), ('riders', 1890), ('hacerlo', 1891), ('clavado', 1892), ('economía', 1893), ('north', 1894), ('médica', 1895), ('deja', 1896), ('tutora', 1897), ('fuego', 1898), ('llamamos', 1899), ('victoria', 1900), ('líderes', 1901), ('tomándose', 1902), ('positivo', 1903), ('niñera', 1904), ('necesitas', 1905), ('conmoción', 1906), ('puñado', 1907), ('hicimos', 1908), ('sola', 1909), ('cargo', 1910), ('manos', 1911), ('flecha', 1912), ('peso', 1913), ('comisionado', 1914), ('socios', 1915), ('fuerzas', 1916), ('ausencia', 1917), ('hacernos', 1918), ('puto', 1919), ('espía', 1920), ('azotea', 1921), ('marchando', 1922), ('comida', 1923), ('mañana', 1924), ('fórmula', 1925), ('ray', 1926), ('hablas', 1927), ('coge', 1928), ('cierrate', 1929), ('difícil', 1930), ('cálido', 1931), ('coronel', 1932), ('adiós', 1933), ('crezcas', 1934), ('dejadme', 1935), ('club', 1936), ('jode', 1937), ('capitán', 1938), ('litro', 1939), ('carteles', 1940), ('té', 1941), ('tipi', 1942), ('alegra', 1943), ('paciente', 1944), ('compañeros', 1945), ('encontrarán', 1946), ('directamente', 1947), ('joderme', 1948), ('jesús', 1949), ('siquera', 1950), ('sucedido', 1951), ('urgencia', 1952), ('aj', 1953), ('estrella', 1954), ('molar', 1955), ('sabrás', 1956), ('pagó', 1957), ('hagámoslo', 1958), ('doritos', 1959), ('haría', 1960), ('cola', 1961), ('chica', 1962), ('animadoras', 1963), ('fuerte', 1964), ('urdu', 1965), ('inventaron', 1966), ('dice', 1967), ('abogada', 1968), ('quién', 1969), ('hija', 1970), ('á', 1971), ('encuentra', 1972), ('aquella', 1973), ('linda', 1974), ('llamemos', 1975), ('herir', 1976), ('hacen', 1977), ('señora', 1978), ('brazos', 1979), ('venido', 1980), ('actuante', 1981), ('joyas', 1982), ('hmmm', 1983), ('parecemos', 1984), ('fascinante', 1985), ('fanático', 1986), ('tranquilo', 1987), ('cuánto', 1988), ('grite', 1989), ('ejemplo', 1990), ('jóven', 1991), ('guardas', 1992), ('santo', 1993), ('bromista', 1994), ('estudian', 1995), ('baño', 1996), ('ganando', 1997), ('tequila', 1998), ('hermosa', 1999), ('cuál', 2000), ('lógico', 2001), ('norths', 2002), ('ocurrido', 2003), ('preocupada', 2004), ('hablaste', 2005), ('sientes', 2006), ('récien', 2007), ('adentro', 2008), ('calla', 2009), ('pagué', 2010), ('asustado', 2011), ('cuándo', 2012), ('aceptarlo', 2013), ('bebida', 2014), ('tobillos', 2015), ('coños', 2016), ('sabías', 2017), ('juro', 2018), ('dobles', 2019), ('libros', 2020), ('regalo', 2021), ('promoción', 2022), ('bienvenida', 2023), ('irme', 2024), ('vuelta', 2025), ('llévanos', 2026), ('boca', 2027), ('batir', 2028), ('sangrientas', 2029), ('miel', 2030), ('básicamente', 2031), ('generó', 2032), ('tiempos', 2033), ('terminado', 2034), ('sarcasmobol', 2035), ('oiga', 2036), ('dura', 2037), ('venga', 2038), ('diré', 2039), ('ir', 2040), ('chúpalas', 2041), ('indicado', 2042), ('fácilmente', 2043), ('di', 2044), ('resumiendo', 2045), ('malpinas', 2046), ('roger', 2047), ('niveles', 2048), ('ganas', 2049), ('robo', 2050), ('dispararé', 2051), ('reemplazar', 2052), ('trece', 2053), ('protesto', 2054), ('conchabados', 2055), ('hagas', 2056), ('relativo', 2057), ('cielo', 2058), ('compren', 2059), ('importa', 2060), ('deberían', 2061), ('hacer', 2062), ('completamete', 2063), ('suéltalas', 2064), ('espere', 2065), ('encuentren', 2066), ('libres', 2067), ('hindu', 2068), ('entonces', 2069), ('entiende', 2070), ('volvió', 2071), ('vinieramos', 2072), ('después', 2073), ('noche', 2074), ('juego', 2075), ('resolverlo', 2076), ('coño', 2077), ('relleníta', 2078), ('buscarán', 2079), ('muchachos', 2080), ('modo', 2081), ('sevidor', 2082), ('dijiste', 2083), ('mil', 2084), ('hombre', 2085), ('golpes', 2086), ('avisárselo', 2087), ('grupo', 2088), ('lando', 2089), ('marsh', 2090), ('refuerzos', 2091), ('pedirnos', 2092), ('iba', 2093), ('resto', 2094), ('formas', 2095), ('fondo', 2096), ('culos', 2097), ('testamento', 2098), ('rebalsa', 2099), ('sé', 2100), ('cerramos', 2101), ('amaba', 2102), ('número', 2103), ('quilates', 2104), ('unas', 2105), ('transmisión', 2106), ('canales', 2107), ('venir', 2108), ('country', 2109), ('pañales', 2110), ('sepa', 2111), ('leccion', 2112), ('formar', 2113), ('réplica', 2114), ('hacerte', 2115), ('jubilación', 2116), ('cyril', 2117), ('mandaste', 2118), ('ayúdame', 2119), ('balón', 2120), ('veintiquatro', 2121), ('romperé', 2122)]\n"
     ]
    }
   ],
   "source": [
    "vocabulario = df_diag['pre-procesado'].str.cat(sep=\" \")\n",
    "vocabulario = set(vocabulario.split())\n",
    "vocabulario = [(palabra,i+1) for i,palabra in enumerate(vocabulario)]\n",
    "print(vocabulario)"
   ]
  },
  {
   "cell_type": "code",
   "execution_count": 5,
   "metadata": {},
   "outputs": [],
   "source": [
    "def bow(frase):\n",
    "    frase_bow = [0]*len(vocabulario)\n",
    "    for palabra,i in vocabulario:\n",
    "        if palabra in frase.split():\n",
    "            frase_bow[i-1] = 1\n",
    "    print(frase_bow)"
   ]
  },
  {
   "cell_type": "code",
   "execution_count": 6,
   "metadata": {},
   "outputs": [
    {
     "name": "stdout",
     "output_type": "stream",
     "text": [
      "2115\n"
     ]
    }
   ],
   "source": [
    "from sklearn.feature_extraction.text import CountVectorizer\n",
    "\n",
    "count_vect = CountVectorizer()\n",
    "bow_rep = count_vect.fit_transform( df_diag['pre-procesado'].values)\n",
    "\n",
    "print(len(count_vect.vocabulary_))"
   ]
  },
  {
   "cell_type": "markdown",
   "metadata": {},
   "source": [
    "# Punto 3: 🤔\n",
    "\n",
    "- `[3pts]` ¿En qué casos es buena idea tomar en la cuenta la frecuencia de las palabras para la bolsa de palabras?\n",
    "Es buena idea toma la frecuencia de las palabras para diferenciar las más recurrentes y menos recurrentes de manera que podemos tomar decisiones a eliminar esas palabras si se da el caso en el ejercicio.            \n",
    "            \n",
    "            \n",
    "- `[3pts]` ¿Cuándo es una mejor idea usar una bolsa de n-gramas en vez de una bolsa de palabras?\n",
    "Cuando debamos montar un modelo de clasificación es mejor usar una bolsa de n -gramas por los patrones que se puedan encontrar.\n",
    "\n"
   ]
  },
  {
   "cell_type": "markdown",
   "metadata": {},
   "source": [
    "# BONUS Punto 4: 😜\n",
    "\n",
    "- `[1pt]` ¿A qué pertenecen los dialogos del primer punto? "
   ]
  }
 ],
 "metadata": {
  "kernelspec": {
   "display_name": "Python 3",
   "language": "python",
   "name": "python3"
  },
  "language_info": {
   "codemirror_mode": {
    "name": "ipython",
    "version": 3
   },
   "file_extension": ".py",
   "mimetype": "text/x-python",
   "name": "python",
   "nbconvert_exporter": "python",
   "pygments_lexer": "ipython3",
   "version": "3.8.3"
  }
 },
 "nbformat": 4,
 "nbformat_minor": 2
}
