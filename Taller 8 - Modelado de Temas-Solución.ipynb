{
 "cells": [
  {
   "cell_type": "markdown",
   "metadata": {},
   "source": [
    "<img src='https://encrypted-tbn0.gstatic.com/images?q=tbn%3AANd9GcQ-VfNtOyJbsaxu43Kztf_cv1mgBG6ZIQZEVw&usqp=CAU'>\n",
    "\n",
    "# Procesamiento de Lenguage Natural\n",
    "\n",
    "## Taller #8: Modelado de temas\n",
    "`Fecha de entrega: 🎃 Octubre 31, 2020. (Antes del inicio de la próxima clase).`\n",
    "\n",
    "`Modo de entrega: Subir link de GitHub al aula virtual.`"
   ]
  },
  {
   "cell_type": "code",
   "execution_count": 1,
   "metadata": {},
   "outputs": [
    {
     "name": "stderr",
     "output_type": "stream",
     "text": [
      "C:\\Users\\User\\anaconda3\\lib\\site-packages\\scipy\\sparse\\sparsetools.py:21: DeprecationWarning: `scipy.sparse.sparsetools` is deprecated!\n",
      "scipy.sparse.sparsetools is a private module for scipy.sparse, and should not be used.\n",
      "  _deprecated()\n"
     ]
    }
   ],
   "source": [
    "import re\n",
    "import pandas as pd \n",
    "from pprint import pprint\n",
    "\n",
    "from nltk.corpus import stopwords\n",
    "stopwords_sp = stopwords.words('spanish')\n",
    "\n",
    "import pyLDAvis.gensim\n",
    "from gensim.models import LdaModel\n",
    "from gensim.corpora import Dictionary\n",
    "\n",
    "import warnings\n",
    "warnings.filterwarnings(\"ignore\", category=DeprecationWarning)"
   ]
  },
  {
   "cell_type": "code",
   "execution_count": 2,
   "metadata": {},
   "outputs": [
    {
     "data": {
      "text/html": [
       "<div>\n",
       "<style scoped>\n",
       "    .dataframe tbody tr th:only-of-type {\n",
       "        vertical-align: middle;\n",
       "    }\n",
       "\n",
       "    .dataframe tbody tr th {\n",
       "        vertical-align: top;\n",
       "    }\n",
       "\n",
       "    .dataframe thead th {\n",
       "        text-align: right;\n",
       "    }\n",
       "</style>\n",
       "<table border=\"1\" class=\"dataframe\">\n",
       "  <thead>\n",
       "    <tr style=\"text-align: right;\">\n",
       "      <th></th>\n",
       "      <th>review_id</th>\n",
       "      <th>product_id</th>\n",
       "      <th>reviewer_id</th>\n",
       "      <th>stars</th>\n",
       "      <th>review_body</th>\n",
       "      <th>review_title</th>\n",
       "      <th>language</th>\n",
       "      <th>product_category</th>\n",
       "    </tr>\n",
       "  </thead>\n",
       "  <tbody>\n",
       "    <tr>\n",
       "      <th>0</th>\n",
       "      <td>es_0825565</td>\n",
       "      <td>product_es_0370490</td>\n",
       "      <td>reviewer_es_0174781</td>\n",
       "      <td>3</td>\n",
       "      <td>Buen. Buena calidad, y buena presentación.</td>\n",
       "      <td>Contenta</td>\n",
       "      <td>es</td>\n",
       "      <td>jewelry</td>\n",
       "    </tr>\n",
       "    <tr>\n",
       "      <th>1</th>\n",
       "      <td>es_0227934</td>\n",
       "      <td>product_es_0354224</td>\n",
       "      <td>reviewer_es_0411613</td>\n",
       "      <td>3</td>\n",
       "      <td>Un producto a perfecto, para salir de casa con...</td>\n",
       "      <td>Versatilidad</td>\n",
       "      <td>es</td>\n",
       "      <td>video_games</td>\n",
       "    </tr>\n",
       "    <tr>\n",
       "      <th>2</th>\n",
       "      <td>es_0468601</td>\n",
       "      <td>product_es_0665460</td>\n",
       "      <td>reviewer_es_0348315</td>\n",
       "      <td>1</td>\n",
       "      <td>No funciona con Nintendo Switch. No hay forma ...</td>\n",
       "      <td>Decepción absoluta</td>\n",
       "      <td>es</td>\n",
       "      <td>video_games</td>\n",
       "    </tr>\n",
       "    <tr>\n",
       "      <th>3</th>\n",
       "      <td>es_0814494</td>\n",
       "      <td>product_es_0692692</td>\n",
       "      <td>reviewer_es_0951508</td>\n",
       "      <td>5</td>\n",
       "      <td>Recomendado, los utilizo para pc y no me dan n...</td>\n",
       "      <td>Auriculares Pecham ps4</td>\n",
       "      <td>es</td>\n",
       "      <td>video_games</td>\n",
       "    </tr>\n",
       "    <tr>\n",
       "      <th>4</th>\n",
       "      <td>es_0206329</td>\n",
       "      <td>product_es_0728826</td>\n",
       "      <td>reviewer_es_0493255</td>\n",
       "      <td>4</td>\n",
       "      <td>El cable funciona bien podria ser un poco mas ...</td>\n",
       "      <td>Perfecto</td>\n",
       "      <td>es</td>\n",
       "      <td>video_games</td>\n",
       "    </tr>\n",
       "  </tbody>\n",
       "</table>\n",
       "</div>"
      ],
      "text/plain": [
       "    review_id          product_id          reviewer_id  stars  \\\n",
       "0  es_0825565  product_es_0370490  reviewer_es_0174781      3   \n",
       "1  es_0227934  product_es_0354224  reviewer_es_0411613      3   \n",
       "2  es_0468601  product_es_0665460  reviewer_es_0348315      1   \n",
       "3  es_0814494  product_es_0692692  reviewer_es_0951508      5   \n",
       "4  es_0206329  product_es_0728826  reviewer_es_0493255      4   \n",
       "\n",
       "                                         review_body            review_title  \\\n",
       "0         Buen. Buena calidad, y buena presentación.                Contenta   \n",
       "1  Un producto a perfecto, para salir de casa con...            Versatilidad   \n",
       "2  No funciona con Nintendo Switch. No hay forma ...      Decepción absoluta   \n",
       "3  Recomendado, los utilizo para pc y no me dan n...  Auriculares Pecham ps4   \n",
       "4  El cable funciona bien podria ser un poco mas ...                Perfecto   \n",
       "\n",
       "  language product_category  \n",
       "0       es          jewelry  \n",
       "1       es      video_games  \n",
       "2       es      video_games  \n",
       "3       es      video_games  \n",
       "4       es      video_games  "
      ]
     },
     "execution_count": 2,
     "metadata": {},
     "output_type": "execute_result"
    }
   ],
   "source": [
    "# Cargar datos\n",
    "path = 'D:/Users/User/Imágenes/Especialización Analítica Estratégica de Datos/Semestre II/Electiva NLP/Clase 9/reviews_vidjew_es.csv'\n",
    "data = pd.read_csv(path)\n",
    "data.head()"
   ]
  },
  {
   "cell_type": "markdown",
   "metadata": {},
   "source": [
    "###  `[12 pts]` Punto 1: Hacer pre-procesamiento del texto"
   ]
  },
  {
   "cell_type": "code",
   "execution_count": 3,
   "metadata": {},
   "outputs": [
    {
     "data": {
      "text/html": [
       "<div>\n",
       "<style scoped>\n",
       "    .dataframe tbody tr th:only-of-type {\n",
       "        vertical-align: middle;\n",
       "    }\n",
       "\n",
       "    .dataframe tbody tr th {\n",
       "        vertical-align: top;\n",
       "    }\n",
       "\n",
       "    .dataframe thead th {\n",
       "        text-align: right;\n",
       "    }\n",
       "</style>\n",
       "<table border=\"1\" class=\"dataframe\">\n",
       "  <thead>\n",
       "    <tr style=\"text-align: right;\">\n",
       "      <th></th>\n",
       "      <th>review_id</th>\n",
       "      <th>product_id</th>\n",
       "      <th>reviewer_id</th>\n",
       "      <th>stars</th>\n",
       "      <th>review_body</th>\n",
       "      <th>review_title</th>\n",
       "      <th>language</th>\n",
       "      <th>product_category</th>\n",
       "      <th>pp</th>\n",
       "    </tr>\n",
       "  </thead>\n",
       "  <tbody>\n",
       "    <tr>\n",
       "      <th>0</th>\n",
       "      <td>es_0825565</td>\n",
       "      <td>product_es_0370490</td>\n",
       "      <td>reviewer_es_0174781</td>\n",
       "      <td>3</td>\n",
       "      <td>Buen. Buena calidad, y buena presentación.</td>\n",
       "      <td>Contenta</td>\n",
       "      <td>es</td>\n",
       "      <td>jewelry</td>\n",
       "      <td>[buen, buena, calidad, buena, presentación]</td>\n",
       "    </tr>\n",
       "    <tr>\n",
       "      <th>1</th>\n",
       "      <td>es_0227934</td>\n",
       "      <td>product_es_0354224</td>\n",
       "      <td>reviewer_es_0411613</td>\n",
       "      <td>3</td>\n",
       "      <td>Un producto a perfecto, para salir de casa con...</td>\n",
       "      <td>Versatilidad</td>\n",
       "      <td>es</td>\n",
       "      <td>video_games</td>\n",
       "      <td>[producto, perfecto, salir, casa, nintendo, sw...</td>\n",
       "    </tr>\n",
       "    <tr>\n",
       "      <th>2</th>\n",
       "      <td>es_0468601</td>\n",
       "      <td>product_es_0665460</td>\n",
       "      <td>reviewer_es_0348315</td>\n",
       "      <td>1</td>\n",
       "      <td>No funciona con Nintendo Switch. No hay forma ...</td>\n",
       "      <td>Decepción absoluta</td>\n",
       "      <td>es</td>\n",
       "      <td>video_games</td>\n",
       "      <td>[funciona, nintendo, switch, forma, emparejarl...</td>\n",
       "    </tr>\n",
       "    <tr>\n",
       "      <th>3</th>\n",
       "      <td>es_0814494</td>\n",
       "      <td>product_es_0692692</td>\n",
       "      <td>reviewer_es_0951508</td>\n",
       "      <td>5</td>\n",
       "      <td>Recomendado, los utilizo para pc y no me dan n...</td>\n",
       "      <td>Auriculares Pecham ps4</td>\n",
       "      <td>es</td>\n",
       "      <td>video_games</td>\n",
       "      <td>[recomendado, utilizo, pc, dan, ningún, proble...</td>\n",
       "    </tr>\n",
       "    <tr>\n",
       "      <th>4</th>\n",
       "      <td>es_0206329</td>\n",
       "      <td>product_es_0728826</td>\n",
       "      <td>reviewer_es_0493255</td>\n",
       "      <td>4</td>\n",
       "      <td>El cable funciona bien podria ser un poco mas ...</td>\n",
       "      <td>Perfecto</td>\n",
       "      <td>es</td>\n",
       "      <td>video_games</td>\n",
       "      <td>[cable, funciona, bien, podria, ser, mas, larg...</td>\n",
       "    </tr>\n",
       "  </tbody>\n",
       "</table>\n",
       "</div>"
      ],
      "text/plain": [
       "    review_id          product_id          reviewer_id  stars  \\\n",
       "0  es_0825565  product_es_0370490  reviewer_es_0174781      3   \n",
       "1  es_0227934  product_es_0354224  reviewer_es_0411613      3   \n",
       "2  es_0468601  product_es_0665460  reviewer_es_0348315      1   \n",
       "3  es_0814494  product_es_0692692  reviewer_es_0951508      5   \n",
       "4  es_0206329  product_es_0728826  reviewer_es_0493255      4   \n",
       "\n",
       "                                         review_body            review_title  \\\n",
       "0         Buen. Buena calidad, y buena presentación.                Contenta   \n",
       "1  Un producto a perfecto, para salir de casa con...            Versatilidad   \n",
       "2  No funciona con Nintendo Switch. No hay forma ...      Decepción absoluta   \n",
       "3  Recomendado, los utilizo para pc y no me dan n...  Auriculares Pecham ps4   \n",
       "4  El cable funciona bien podria ser un poco mas ...                Perfecto   \n",
       "\n",
       "  language product_category                                                 pp  \n",
       "0       es          jewelry        [buen, buena, calidad, buena, presentación]  \n",
       "1       es      video_games  [producto, perfecto, salir, casa, nintendo, sw...  \n",
       "2       es      video_games  [funciona, nintendo, switch, forma, emparejarl...  \n",
       "3       es      video_games  [recomendado, utilizo, pc, dan, ningún, proble...  \n",
       "4       es      video_games  [cable, funciona, bien, podria, ser, mas, larg...  "
      ]
     },
     "execution_count": 3,
     "metadata": {},
     "output_type": "execute_result"
    }
   ],
   "source": [
    "\n",
    "\n",
    "def pre_procesado(texto):\n",
    "    texto = texto.lower()\n",
    "    texto = re.sub(r\"[\\W\\d_]+\", \" \", texto)\n",
    "    texto = [palabra for palabra in texto.split() if palabra not in stopwords_sp]\n",
    "    return texto\n",
    "data['pp'] = data['review_body'].apply(lambda texto: pre_procesado(texto))\n",
    "\n",
    "data.head()"
   ]
  },
  {
   "cell_type": "code",
   "execution_count": null,
   "metadata": {},
   "outputs": [],
   "source": []
  },
  {
   "cell_type": "markdown",
   "metadata": {},
   "source": [
    "###  `[13 pts]` Punto 2: Modelo de LDA"
   ]
  },
  {
   "cell_type": "code",
   "execution_count": 4,
   "metadata": {},
   "outputs": [],
   "source": [
    "# Crear una representación de los documentos en forma de diccionario\n",
    "dictionary = Dictionary(data['pp'].values)"
   ]
  },
  {
   "cell_type": "code",
   "execution_count": 5,
   "metadata": {},
   "outputs": [],
   "source": [
    "# Filtrar palabras muy frecuentes o infrecuentes\n",
    "dictionary.filter_extremes(no_below=5, no_above=0.5)"
   ]
  },
  {
   "cell_type": "code",
   "execution_count": 6,
   "metadata": {},
   "outputs": [],
   "source": [
    "#Train the topic model\n",
    "corpus = [dictionary.doc2bow(text) for text in data['pp'].values]\n",
    "\n",
    "model = LdaModel(corpus=corpus, id2word=dictionary, num_topics=7, passes=50)"
   ]
  },
  {
   "cell_type": "markdown",
   "metadata": {},
   "source": [
    "###  `[25 pts]` Punto 3: Visualización de LDA"
   ]
  },
  {
   "cell_type": "code",
   "execution_count": 7,
   "metadata": {},
   "outputs": [
    {
     "data": {
      "text/html": [
       "\n",
       "<link rel=\"stylesheet\" type=\"text/css\" href=\"https://cdn.rawgit.com/bmabey/pyLDAvis/files/ldavis.v1.0.0.css\">\n",
       "\n",
       "\n",
       "<div id=\"ldavis_el21962372642568378295610\"></div>\n",
       "<script type=\"text/javascript\">\n",
       "\n",
       "var ldavis_el21962372642568378295610_data = {\"mdsDat\": {\"x\": [0.0010043090002317214, 0.04877893971769175, -0.1357762621086847, -0.1702178170412922, 0.06286662414718995, 0.18022619879206528, 0.013118007492798268], \"y\": [-0.11304301361373306, 0.0034904652380577804, -0.13249290440696507, 0.06434025115831322, 0.0697956189710849, -0.07718136886156893, 0.185090951514811], \"topics\": [1, 2, 3, 4, 5, 6, 7], \"cluster\": [1, 1, 1, 1, 1, 1, 1], \"Freq\": [14.259173393249512, 20.439376831054688, 9.036810874938965, 16.195125579833984, 12.107782363891602, 15.8006591796875, 12.161063194274902]}, \"tinfo\": {\"Term\": [\"calidad\", \"juego\", \"d\\u00eda\", \"bonitos\", \"buena\", \"cadena\", \"llegado\", \"producto\", \"precio\", \"bien\", \"bonito\", \"si\", \"regalo\", \"buen\", \"pendientes\", \"quedan\", \"funciona\", \"amazon\", \"grandes\", \"lleg\\u00f3\", \"plata\", \"tiempo\", \"peque\\u00f1os\", \"espa\\u00f1ol\", \"caja\", \"sonido\", \"original\", \"sido\", \"llegar\", \"comprar\", \"bonitos\", \"espa\\u00f1ol\", \"van\", \"italiano\", \"preciosos\", \"ponen\", \"peque\\u00f1os\", \"ingles\", \"espa\\u00f1ola\", \"ingl\\u00e9s\", \"quiz\\u00e1\", \"pendientes\", \"grandes\", \"elegantes\", \"puestos\", \"pesan\", \"siendo\", \"perlas\", \"volver\\u00eda\", \"exactamente\", \"gustan\", \"versi\\u00f3n\", \"anillo\", \"comprar\", \"descripci\\u00f3n\", \"enga\\u00f1o\", \"asi\", \"sigue\", \"instrucciones\", \"tama\\u00f1o\", \"mujer\", \"casi\", \"juego\", \"da\", \"si\", \"vez\", \"viene\", \"as\\u00ed\", \"esperaba\", \"demasiado\", \"quedan\", \"nuevo\", \"aunque\", \"mas\", \"perfecto\", \"dos\", \"bien\", \"regalo\", \"parece\", \"bastante\", \"buen\", \"compra\", \"precio\", \"amazon\", \"mandos\", \"nintendo\", \"cargador\", \"cargar\", \"dejado\", \"quieres\", \"cerrar\", \"articulo\", \"entra\", \"juegos\", \"original\", \"horas\", \"switch\", \"colores\", \"usb\", \"cuenta\", \"encajan\", \"va\", \"funcionan\", \"ver\", \"funda\", \"buenos\", \"baja\", \"\\u00fanica\", \"medio\", \"baratos\", \"funcionar\", \"problema\", \"parecido\", \"puedes\", \"grande\", \"gusta\", \"solo\", \"peque\\u00f1o\", \"si\", \"ps\", \"mando\", \"mala\", \"bonito\", \"ser\", \"calidad\", \"cable\", \"foto\", \"vale\", \"as\\u00ed\", \"bien\", \"botones\", \"parece\", \"puede\", \"mal\", \"pena\", \"mas\", \"aunque\", \"producto\", \"much\\u00edsimo\", \"decepcionado\", \"ruido\", \"sonido\", \"prime\", \"perdi\\u00f3\", \"d\\u00eda\", \"entregado\", \"llegar\", \"juegazo\", \"debido\", \"entender\", \"ir\", \"dicen\", \"quedan\", \"ajusta\", \"bonitas\", \"correctamente\", \"segundo\", \"casa\", \"recomendado\", \"conectar\", \"interesante\", \"sitio\", \"encanta\", \"seg\\u00fan\", \"valen\", \"tipo\", \"mejores\", \"lleva\", \"dice\", \"pedido\", \"semana\", \"amazon\", \"caso\", \"hace\", \"bien\", \"cierre\", \"buen\", \"material\", \"cable\", \"aunque\", \"bastante\", \"siempre\", \"dem\\u00e1s\", \"pena\", \"mejor\", \"env\\u00edo\", \"gusto\", \"calidad\", \"ser\", \"despu\\u00e9s\", \"si\", \"barato\", \"rota\", \"esperando\", \"venia\", \"sorpresa\", \"todav\\u00eda\", \"empresa\", \"fea\", \"gracias\", \"rompi\\u00f3\", \"paquete\", \"devoluci\\u00f3n\", \"mes\", \"llegado\", \"hoy\", \"haber\", \"fecha\", \"rosa\", \"recibido\", \"aun\", \"toda\", \"nunca\", \"sido\", \"bajo\", \"entrega\", \"creo\", \"opinar\", \"devolver\", \"hola\", \"cosas\", \"bonita\", \"producto\", \"llego\", \"caja\", \"mas\", \"buen\", \"amazon\", \"hacer\", \"plata\", \"pulsera\", \"puede\", \"solo\", \"d\\u00eda\", \"vendedor\", \"si\", \"ahora\", \"mando\", \"precio\", \"bien\", \"s\\u00f3lo\", \"enseguida\", \"bolsita\", \"peque\\u00f1as\", \"tiendas\", \"pantalla\", \"encant\\u00f3\", \"q\", \"acierto\", \"ped\\u00ed\", \"bolsa\", \"dise\\u00f1o\", \"devuelto\", \"juguete\", \"enviaron\", \"tra\\u00eda\", \"buscaba\", \"ven\\u00eda\", \"alta\", \"dorado\", \"veo\", \"pc\", \"ni\\u00f1os\", \"a\\u00f1os\", \"jugabilidad\", \"rompio\", \"adapta\", \"certificado\", \"cajita\", \"rat\\u00f3n\", \"plata\", \"pues\", \"cuanto\", \"funciona\", \"totalmente\", \"colgante\", \"regalo\", \"decir\", \"perfectamente\", \"precio\", \"bastante\", \"pedir\", \"verdad\", \"bien\", \"jugar\", \"ser\", \"si\", \"puede\", \"foto\", \"mas\", \"viene\", \"bonito\", \"calidad\", \"dos\", \"caja\", \"hijo\", \"relaci\\u00f3n\", \"utilizar\", \"divertido\", \"fan\", \"piedras\", \"familia\", \"piel\", \"conjunto\", \"expectativas\", \"buena\", \"duda\", \"sistema\", \"negro\", \"ideal\", \"negra\", \"c\\u00f3digo\", \"presentaci\\u00f3n\", \"env\\u00edo\", \"aspecto\", \"quer\\u00eda\", \"juego\", \"entretenido\", \"ningun\", \"adem\\u00e1s\", \"calidad\", \"embalaje\", \"r\\u00e1pido\", \"todas\", \"tan\", \"encantado\", \"gustado\", \"precio\", \"bueno\", \"cumple\", \"puesto\", \"regalo\", \"perfecto\", \"jugar\", \"compra\", \"recomendable\", \"mala\", \"buen\", \"recomiendo\", \"puede\", \"bien\", \"correcto\", \"demasiado\", \"bastante\", \"pl\\u00e1stico\", \"pulsera\", \"tiempo\", \"cadena\", \"imagen\", \"one\", \"previsto\", \"cuello\", \"xbox\", \"sale\", \"azul\", \"fina\", \"pronto\", \"esperado\", \"fatal\", \"llegaron\", \"encantada\", \"fino\", \"castellano\", \"lamentable\", \"medida\", \"puse\", \"peso\", \"roto\", \"pandora\", \"transporte\", \"tacto\", \"pro\", \"corresponde\", \"poner\", \"lleg\\u00f3\", \"peque\\u00f1a\", \"uso\", \"tiempo\", \"queda\", \"bonito\", \"funciona\", \"bien\", \"forma\", \"tal\", \"hace\", \"colgante\", \"foto\", \"producto\", \"pulsera\", \"llegado\", \"parece\", \"viene\", \"perfecto\", \"ps\", \"recomiendo\", \"regalo\"], \"Freq\": [143.0, 116.0, 49.0, 39.0, 65.0, 32.0, 50.0, 104.0, 115.0, 185.0, 63.0, 112.0, 61.0, 60.0, 29.0, 22.0, 34.0, 34.0, 24.0, 43.0, 34.0, 42.0, 21.0, 17.0, 46.0, 14.0, 31.0, 27.0, 16.0, 25.0, 38.678707122802734, 17.05638313293457, 11.349143028259277, 7.645622253417969, 6.712655544281006, 5.774930953979492, 18.883174896240234, 4.834903717041016, 4.834466934204102, 4.833492279052734, 4.832235813140869, 23.95457649230957, 19.8364200592041, 5.77537727355957, 5.648423671722412, 5.617091178894043, 4.822588920593262, 4.8242011070251465, 5.32584285736084, 3.8948729038238525, 7.1397576332092285, 9.531208038330078, 6.325153827667236, 16.7674503326416, 8.3328275680542, 4.1169328689575195, 4.661832809448242, 5.721336841583252, 3.3565444946289062, 20.347347259521484, 6.884816646575928, 7.220573902130127, 33.212074279785156, 8.566154479980469, 25.988353729248047, 10.534177780151367, 11.46479606628418, 11.649246215820312, 10.888592720031738, 9.69475269317627, 8.68916130065918, 7.4520463943481445, 10.654962539672852, 12.194846153259277, 11.425163269042969, 9.906062126159668, 15.530800819396973, 11.048568725585938, 10.020458221435547, 9.971351623535156, 9.856306076049805, 8.833612442016602, 10.666013717651367, 8.572474479675293, 14.177162170410156, 15.684781074523926, 10.430887222290039, 7.625451564788818, 6.667020320892334, 5.751987457275391, 5.751987934112549, 4.815727710723877, 4.813551902770996, 19.77301597595215, 25.770278930664062, 7.582004070281982, 16.51003646850586, 7.447244644165039, 5.75126314163208, 5.750412940979004, 5.6422295570373535, 16.332962036132812, 5.439319133758545, 10.746694564819336, 10.017837524414062, 6.607065200805664, 6.534360408782959, 3.8796634674072266, 3.879929780960083, 3.807530164718628, 5.065591812133789, 16.359081268310547, 4.787454605102539, 8.81945514678955, 18.23771095275879, 13.664312362670898, 25.963266372680664, 17.064252853393555, 54.0465087890625, 16.516584396362305, 25.816612243652344, 13.431344985961914, 27.62619400024414, 18.17319107055664, 44.202392578125, 12.254990577697754, 21.715473175048828, 11.092337608337402, 17.493743896484375, 41.867469787597656, 9.649829864501953, 14.932561874389648, 14.856112480163574, 12.908658981323242, 12.105603218078613, 13.941108703613281, 12.817350387573242, 13.954349517822266, 5.839993476867676, 5.839005947113037, 5.837767124176025, 12.4951171875, 5.816830635070801, 4.890700340270996, 35.66205978393555, 10.892345428466797, 11.321657180786133, 3.9399662017822266, 3.9377825260162354, 3.937659502029419, 3.822338819503784, 4.623598098754883, 13.329264640808105, 4.890139102935791, 4.892431259155273, 4.868260383605957, 3.6888203620910645, 6.494260311126709, 3.9384541511535645, 4.7476701736450195, 2.820805788040161, 5.005945682525635, 3.93896746635437, 2.987879514694214, 2.986809730529785, 2.9879777431488037, 3.75471830368042, 3.743574380874634, 4.805431842803955, 9.041379928588867, 4.3765869140625, 11.5905122756958, 6.035167217254639, 7.084571838378906, 31.755998611450195, 7.8294453620910645, 13.8785982131958, 6.487363815307617, 6.639027118682861, 8.826659202575684, 9.6273775100708, 5.6624345779418945, 5.681401252746582, 6.721710205078125, 6.560452461242676, 5.6501898765563965, 5.459704875946045, 6.737112522125244, 5.302679538726807, 5.209542274475098, 5.343989849090576, 10.382410049438477, 10.34277629852295, 8.519092559814453, 6.597030162811279, 5.726876735687256, 10.39064884185791, 4.794724464416504, 4.7939252853393555, 18.173967361450195, 7.591866493225098, 11.264114379882812, 7.4631452560424805, 11.155518531799316, 40.00592803955078, 8.084138870239258, 6.580583572387695, 5.727423191070557, 4.793922424316406, 10.97797966003418, 8.867121696472168, 7.402016639709473, 14.493348121643066, 18.488229751586914, 3.8190553188323975, 15.752585411071777, 10.115799903869629, 3.733438730239868, 7.395303726196289, 4.254374980926514, 6.693499565124512, 16.956825256347656, 61.464027404785156, 20.258485794067383, 25.93915557861328, 24.062397003173828, 19.96352767944336, 14.091422080993652, 9.524370193481445, 12.661799430847168, 12.288261413574219, 13.517218589782715, 12.729762077331543, 12.843027114868164, 9.225898742675781, 14.491074562072754, 9.811785697937012, 11.16850757598877, 11.820087432861328, 11.082884788513184, 8.72705078125, 9.494110107421875, 5.867029190063477, 5.867059230804443, 5.866038799285889, 7.351866245269775, 9.449368476867676, 13.38733959197998, 4.638385772705078, 11.256549835205078, 5.866410255432129, 14.27804946899414, 7.474266529083252, 3.9563069343566895, 3.9569308757781982, 3.8716306686401367, 3.834059715270996, 9.195063591003418, 4.810976028442383, 3.9580113887786865, 4.912629127502441, 5.7144365310668945, 3.1075100898742676, 7.112785339355469, 3.001365900039673, 3.002396583557129, 3.0016372203826904, 3.0008461475372314, 4.474000930786133, 4.912012100219727, 17.788095474243164, 7.40028715133667, 5.65200662612915, 15.669740676879883, 5.552709102630615, 10.793630599975586, 21.822111129760742, 8.421293258666992, 13.192853927612305, 25.85335350036621, 15.188486099243164, 8.125184059143066, 8.183517456054688, 23.05450439453125, 9.815712928771973, 8.876603126525879, 12.399622917175293, 9.516708374023438, 9.389296531677246, 9.354701042175293, 8.254741668701172, 9.035826683044434, 8.983264923095703, 7.793185234069824, 7.579570770263672, 14.92316722869873, 7.528627872467041, 7.527843952178955, 5.679503440856934, 5.679017543792725, 5.6778974533081055, 4.754636764526367, 4.754427909851074, 4.754269599914551, 9.877894401550293, 51.16971206665039, 6.492846488952637, 4.753587245941162, 5.319365978240967, 6.6045451164245605, 3.83064603805542, 3.8224165439605713, 5.663233280181885, 13.428288459777832, 8.065675735473633, 5.679012775421143, 69.81975555419922, 4.399908542633057, 3.8298728466033936, 10.920098304748535, 82.20313262939453, 4.753965377807617, 11.572668075561523, 9.928481101989746, 13.026512145996094, 7.845609188079834, 17.507709503173828, 57.35443115234375, 13.024300575256348, 12.374351501464844, 8.681681632995605, 20.379365921020508, 18.775985717773438, 13.068860054016113, 12.717448234558105, 9.019246101379395, 10.11715030670166, 15.485356330871582, 9.809481620788574, 12.104260444641113, 18.58505630493164, 8.211960792541504, 9.124120712280273, 9.741371154785156, 8.160856246948242, 8.679924964904785, 8.433381080627441, 31.82624053955078, 12.256935119628906, 5.728512763977051, 6.508881568908691, 4.793276786804199, 10.390645980834961, 9.406649589538574, 5.375366687774658, 12.11315631866455, 7.4430670738220215, 6.520142555236816, 6.412881851196289, 4.543186664581299, 6.377889156341553, 5.7296013832092285, 5.7285661697387695, 3.7873518466949463, 4.794441223144531, 4.7957892417907715, 4.795525074005127, 12.402316093444824, 5.640543460845947, 4.469639778137207, 5.5401811599731445, 4.84329080581665, 4.796123504638672, 10.599989891052246, 23.063987731933594, 8.998775482177734, 12.113468170166016, 21.619401931762695, 15.26064682006836, 24.00977325439453, 13.793509483337402, 44.07207489013672, 7.449030876159668, 11.47549819946289, 8.868302345275879, 8.699678421020508, 11.806404113769531, 13.12506103515625, 8.994966506958008, 9.679716110229492, 9.08525276184082, 8.531427383422852, 8.872947692871094, 7.34591007232666, 7.21994686126709, 7.061516284942627], \"Total\": [143.0, 116.0, 49.0, 39.0, 65.0, 32.0, 50.0, 104.0, 115.0, 185.0, 63.0, 112.0, 61.0, 60.0, 29.0, 22.0, 34.0, 34.0, 24.0, 43.0, 34.0, 42.0, 21.0, 17.0, 46.0, 14.0, 31.0, 27.0, 16.0, 25.0, 39.48472595214844, 17.86136817932129, 12.219712257385254, 8.459936141967773, 7.519628524780273, 6.579642295837402, 21.614517211914062, 5.639518737792969, 5.639452934265137, 5.6392927169799805, 5.639256477355957, 29.156208038330078, 24.42742919921875, 7.5121283531188965, 7.531187057495117, 7.515477180480957, 6.575460910797119, 6.58979606628418, 7.514042377471924, 5.635366439819336, 10.369180679321289, 14.137048721313477, 9.390497207641602, 25.410127639770508, 13.166647911071777, 6.5825700759887695, 7.529315948486328, 9.352376937866211, 5.6311936378479, 34.76524353027344, 12.153481483459473, 14.117559432983398, 116.4350357055664, 18.752229690551758, 112.73800659179688, 26.243337631225586, 38.50187301635742, 40.25349807739258, 34.78569793701172, 28.955596923828125, 22.708345413208008, 16.046689987182617, 43.37417984008789, 64.70901489257812, 58.80065155029297, 39.41853332519531, 185.94879150390625, 61.98639678955078, 48.744606018066406, 53.72607421875, 60.85966110229492, 33.72340393066406, 115.90676879882812, 34.79558181762695, 14.986291885375977, 16.857778549194336, 11.240280151367188, 8.430782318115234, 7.493985652923584, 6.557693958282471, 6.557703971862793, 5.621188163757324, 5.621216773986816, 23.420969009399414, 31.788257598876953, 9.385525703430176, 20.618412017822266, 9.380452156066895, 7.481992721557617, 7.50799036026001, 7.481670379638672, 22.552671432495117, 7.511384010314941, 14.970284461975098, 14.044744491577148, 9.35899829864502, 9.379395484924316, 5.609225273132324, 5.6162519454956055, 5.624927997589111, 7.487460136413574, 24.35306739807129, 7.493238925933838, 14.046958923339844, 30.12630844116211, 22.51946449279785, 45.842769622802734, 30.076126098632812, 112.73800659179688, 29.07158660888672, 52.54928207397461, 24.223491668701172, 63.75763702392578, 36.75876998901367, 143.4434356689453, 22.59520149230957, 52.60483169555664, 19.694107055664062, 40.25349807739258, 185.94879150390625, 16.927597045898438, 48.744606018066406, 50.54524612426758, 36.5634651184082, 30.94869613647461, 64.70901489257812, 43.37417984008789, 104.5422592163086, 6.643178462982178, 6.643036842346191, 6.643088340759277, 14.230376243591309, 6.642721176147461, 6.628682613372803, 49.17618942260742, 15.132960319519043, 16.089811325073242, 5.681552410125732, 5.6814727783203125, 5.696653366088867, 5.662827014923096, 7.5594801902771, 22.708345413208008, 8.466238021850586, 8.497576713562012, 8.49681282043457, 6.614848613739014, 12.327768325805664, 7.607270240783691, 9.428306579589844, 5.635498046875, 10.39941692352295, 8.451667785644531, 6.564597129821777, 6.5645952224731445, 6.656090259552002, 8.472617149353027, 8.51253604888916, 11.301972389221191, 24.431236267089844, 10.35604476928711, 34.79558181762695, 16.0310001373291, 20.751060485839844, 185.94879150390625, 24.38581657409668, 60.85966110229492, 20.65948486328125, 22.59520149230957, 43.37417984008789, 53.72607421875, 16.910558700561523, 17.850555419921875, 30.94869613647461, 35.614994049072266, 21.47063636779785, 20.808155059814453, 143.4434356689453, 36.75876998901367, 27.21092414855957, 112.73800659179688, 11.195119857788086, 11.195453643798828, 9.330397605895996, 7.465892791748047, 6.533199787139893, 12.127833366394043, 5.600794792175293, 5.600733757019043, 21.431241989135742, 9.348560333251953, 14.011931419372559, 9.33051586151123, 13.998584747314453, 50.359527587890625, 10.289660453796387, 8.38941764831543, 7.473160743713379, 6.53329610824585, 14.99077033996582, 12.115959167480469, 10.272027015686035, 20.555171966552734, 27.080047607421875, 5.608585834503174, 23.26075553894043, 14.997116088867188, 5.618503570556641, 11.208866119384766, 6.5392303466796875, 10.298832893371582, 26.18904685974121, 104.5422592163086, 33.70668029785156, 46.78704071044922, 64.70901489257812, 60.85966110229492, 34.79558181762695, 19.622631072998047, 34.9206657409668, 37.38255310058594, 50.54524612426758, 45.842769622802734, 49.17618942260742, 19.628759384155273, 112.73800659179688, 25.185997009277344, 52.54928207397461, 115.90676879882812, 185.94879150390625, 9.535786628723145, 10.486488342285156, 6.6701836585998535, 6.670220851898193, 6.67002534866333, 8.570085525512695, 11.408719062805176, 16.19004249572754, 5.708328723907471, 14.267829895019531, 7.6024394035339355, 19.965484619140625, 10.456157684326172, 5.695882797241211, 5.699633598327637, 5.681507110595703, 5.697790622711182, 14.184307098388672, 7.563609600067139, 6.639866828918457, 8.535360336303711, 10.414556503295898, 5.705935001373291, 13.2325439453125, 5.661318778991699, 5.677319049835205, 5.677231788635254, 5.684309959411621, 8.520389556884766, 9.47486400604248, 34.9206657409668, 15.121550559997559, 11.332742691040039, 34.914955139160156, 11.3605318069458, 25.423381805419922, 61.98639678955078, 19.810522079467773, 37.59299087524414, 115.90676879882812, 53.72607421875, 20.646780014038086, 23.521484375, 185.94879150390625, 33.740386962890625, 36.75876998901367, 112.73800659179688, 50.54524612426758, 52.60483169555664, 64.70901489257812, 38.50187301635742, 63.75763702392578, 143.4434356689453, 39.41853332519531, 46.78704071044922, 15.73365592956543, 8.33613109588623, 8.335935592651367, 6.486765384674072, 6.48671817779541, 6.486699104309082, 5.562056064605713, 5.561975479125977, 5.562074661254883, 12.067861557006836, 65.0267333984375, 8.35287857055664, 6.512600898742676, 7.44438362121582, 9.284213066101074, 5.57329797744751, 5.569777965545654, 8.35970687866211, 21.47063636779785, 13.011488914489746, 9.288992881774902, 116.4350357055664, 7.459277629852295, 6.5024213790893555, 18.66864013671875, 143.4434356689453, 8.359925270080566, 20.446382522583008, 17.672183990478516, 23.224458694458008, 14.015386581420898, 32.692684173583984, 115.90676879882812, 25.144350051879883, 24.184391021728516, 16.743968963623047, 61.98639678955078, 58.80065155029297, 33.740386962890625, 33.72340393066406, 18.619123458862305, 24.223491668701172, 60.85966110229492, 28.005630493164062, 50.54524612426758, 185.94879150390625, 17.663909912109375, 28.955596923828125, 53.72607421875, 18.688817977905273, 37.38255310058594, 42.012977600097656, 32.650142669677734, 13.063544273376465, 6.534732341766357, 7.467981338500977, 5.602008819580078, 12.14879035949707, 11.205920219421387, 6.540294170379639, 14.911429405212402, 9.341042518615723, 8.391857147216797, 8.404680252075195, 6.544157981872559, 9.337066650390625, 8.445100784301758, 8.444957733154297, 5.601647853851318, 7.482245445251465, 7.496786117553711, 7.503432273864746, 19.681304931640625, 9.402665138244629, 7.478668689727783, 9.369104385375977, 8.398996353149414, 8.406665802001953, 19.650188446044922, 43.062889099121094, 16.82501983642578, 23.365554809570312, 42.012977600097656, 35.49922180175781, 63.75763702392578, 34.914955139160156, 185.94879150390625, 14.958906173706055, 29.96487045288086, 20.751060485839844, 25.423381805419922, 52.60483169555664, 104.5422592163086, 37.38255310058594, 50.359527587890625, 48.744606018066406, 38.50187301635742, 58.80065155029297, 29.07158660888672, 28.005630493164062, 61.98639678955078], \"Category\": [\"Default\", \"Default\", \"Default\", \"Default\", \"Default\", \"Default\", \"Default\", \"Default\", \"Default\", \"Default\", \"Default\", \"Default\", \"Default\", \"Default\", \"Default\", \"Default\", \"Default\", \"Default\", \"Default\", \"Default\", \"Default\", \"Default\", \"Default\", \"Default\", \"Default\", \"Default\", \"Default\", \"Default\", \"Default\", \"Default\", \"Topic1\", \"Topic1\", \"Topic1\", \"Topic1\", \"Topic1\", \"Topic1\", \"Topic1\", \"Topic1\", \"Topic1\", \"Topic1\", \"Topic1\", \"Topic1\", \"Topic1\", \"Topic1\", \"Topic1\", \"Topic1\", \"Topic1\", \"Topic1\", \"Topic1\", \"Topic1\", \"Topic1\", \"Topic1\", \"Topic1\", \"Topic1\", \"Topic1\", \"Topic1\", \"Topic1\", \"Topic1\", \"Topic1\", \"Topic1\", \"Topic1\", \"Topic1\", \"Topic1\", \"Topic1\", \"Topic1\", \"Topic1\", \"Topic1\", \"Topic1\", \"Topic1\", \"Topic1\", \"Topic1\", \"Topic1\", \"Topic1\", \"Topic1\", \"Topic1\", \"Topic1\", \"Topic1\", \"Topic1\", \"Topic1\", \"Topic1\", \"Topic1\", \"Topic1\", \"Topic1\", \"Topic1\", \"Topic2\", \"Topic2\", \"Topic2\", \"Topic2\", \"Topic2\", \"Topic2\", \"Topic2\", \"Topic2\", \"Topic2\", \"Topic2\", \"Topic2\", \"Topic2\", \"Topic2\", \"Topic2\", \"Topic2\", \"Topic2\", \"Topic2\", \"Topic2\", \"Topic2\", \"Topic2\", \"Topic2\", \"Topic2\", \"Topic2\", \"Topic2\", \"Topic2\", \"Topic2\", \"Topic2\", \"Topic2\", \"Topic2\", \"Topic2\", \"Topic2\", \"Topic2\", \"Topic2\", \"Topic2\", \"Topic2\", \"Topic2\", \"Topic2\", \"Topic2\", \"Topic2\", \"Topic2\", \"Topic2\", \"Topic2\", \"Topic2\", \"Topic2\", \"Topic2\", \"Topic2\", \"Topic2\", \"Topic2\", \"Topic2\", \"Topic2\", \"Topic2\", \"Topic2\", \"Topic2\", \"Topic2\", \"Topic3\", \"Topic3\", \"Topic3\", \"Topic3\", \"Topic3\", \"Topic3\", \"Topic3\", \"Topic3\", \"Topic3\", \"Topic3\", \"Topic3\", \"Topic3\", \"Topic3\", \"Topic3\", \"Topic3\", \"Topic3\", \"Topic3\", \"Topic3\", \"Topic3\", \"Topic3\", \"Topic3\", \"Topic3\", \"Topic3\", \"Topic3\", \"Topic3\", \"Topic3\", \"Topic3\", \"Topic3\", \"Topic3\", \"Topic3\", \"Topic3\", \"Topic3\", \"Topic3\", \"Topic3\", \"Topic3\", \"Topic3\", \"Topic3\", \"Topic3\", \"Topic3\", \"Topic3\", \"Topic3\", \"Topic3\", \"Topic3\", \"Topic3\", \"Topic3\", \"Topic3\", \"Topic3\", \"Topic3\", \"Topic3\", \"Topic3\", \"Topic3\", \"Topic3\", \"Topic3\", \"Topic4\", \"Topic4\", \"Topic4\", \"Topic4\", \"Topic4\", \"Topic4\", \"Topic4\", \"Topic4\", \"Topic4\", \"Topic4\", \"Topic4\", \"Topic4\", \"Topic4\", \"Topic4\", \"Topic4\", \"Topic4\", \"Topic4\", \"Topic4\", \"Topic4\", \"Topic4\", \"Topic4\", \"Topic4\", \"Topic4\", \"Topic4\", \"Topic4\", \"Topic4\", \"Topic4\", \"Topic4\", \"Topic4\", \"Topic4\", \"Topic4\", \"Topic4\", \"Topic4\", \"Topic4\", \"Topic4\", \"Topic4\", \"Topic4\", \"Topic4\", \"Topic4\", \"Topic4\", \"Topic4\", \"Topic4\", \"Topic4\", \"Topic4\", \"Topic4\", \"Topic4\", \"Topic4\", \"Topic4\", \"Topic4\", \"Topic5\", \"Topic5\", \"Topic5\", \"Topic5\", \"Topic5\", \"Topic5\", \"Topic5\", \"Topic5\", \"Topic5\", \"Topic5\", \"Topic5\", \"Topic5\", \"Topic5\", \"Topic5\", \"Topic5\", \"Topic5\", \"Topic5\", \"Topic5\", \"Topic5\", \"Topic5\", \"Topic5\", \"Topic5\", \"Topic5\", \"Topic5\", \"Topic5\", \"Topic5\", \"Topic5\", \"Topic5\", \"Topic5\", \"Topic5\", \"Topic5\", \"Topic5\", \"Topic5\", \"Topic5\", \"Topic5\", \"Topic5\", \"Topic5\", \"Topic5\", \"Topic5\", \"Topic5\", \"Topic5\", \"Topic5\", \"Topic5\", \"Topic5\", \"Topic5\", \"Topic5\", \"Topic5\", \"Topic5\", \"Topic5\", \"Topic5\", \"Topic5\", \"Topic5\", \"Topic5\", \"Topic5\", \"Topic5\", \"Topic6\", \"Topic6\", \"Topic6\", \"Topic6\", \"Topic6\", \"Topic6\", \"Topic6\", \"Topic6\", \"Topic6\", \"Topic6\", \"Topic6\", \"Topic6\", \"Topic6\", \"Topic6\", \"Topic6\", \"Topic6\", \"Topic6\", \"Topic6\", \"Topic6\", \"Topic6\", \"Topic6\", \"Topic6\", \"Topic6\", \"Topic6\", \"Topic6\", \"Topic6\", \"Topic6\", \"Topic6\", \"Topic6\", \"Topic6\", \"Topic6\", \"Topic6\", \"Topic6\", \"Topic6\", \"Topic6\", \"Topic6\", \"Topic6\", \"Topic6\", \"Topic6\", \"Topic6\", \"Topic6\", \"Topic6\", \"Topic6\", \"Topic6\", \"Topic6\", \"Topic6\", \"Topic6\", \"Topic6\", \"Topic6\", \"Topic6\", \"Topic6\", \"Topic6\", \"Topic7\", \"Topic7\", \"Topic7\", \"Topic7\", \"Topic7\", \"Topic7\", \"Topic7\", \"Topic7\", \"Topic7\", \"Topic7\", \"Topic7\", \"Topic7\", \"Topic7\", \"Topic7\", \"Topic7\", \"Topic7\", \"Topic7\", \"Topic7\", \"Topic7\", \"Topic7\", \"Topic7\", \"Topic7\", \"Topic7\", \"Topic7\", \"Topic7\", \"Topic7\", \"Topic7\", \"Topic7\", \"Topic7\", \"Topic7\", \"Topic7\", \"Topic7\", \"Topic7\", \"Topic7\", \"Topic7\", \"Topic7\", \"Topic7\", \"Topic7\", \"Topic7\", \"Topic7\", \"Topic7\", \"Topic7\", \"Topic7\", \"Topic7\", \"Topic7\", \"Topic7\", \"Topic7\", \"Topic7\", \"Topic7\"], \"logprob\": [30.0, 29.0, 28.0, 27.0, 26.0, 25.0, 24.0, 23.0, 22.0, 21.0, 20.0, 19.0, 18.0, 17.0, 16.0, 15.0, 14.0, 13.0, 12.0, 11.0, 10.0, 9.0, 8.0, 7.0, 6.0, 5.0, 4.0, 3.0, 2.0, 1.0, -3.3287999629974365, -4.147500038146973, -4.554900169372559, -4.949900150299072, -5.080100059509277, -5.230500221252441, -4.04580020904541, -5.408199787139893, -5.408299922943115, -5.4085001945495605, -5.408699989318848, -3.8078999519348145, -3.996500015258789, -5.230400085449219, -5.252699851989746, -5.258200168609619, -5.410699844360352, -5.410399913787842, -5.311500072479248, -5.6244001388549805, -5.018400192260742, -4.729499816894531, -5.139500141143799, -4.164599895477295, -4.863800048828125, -5.568900108337402, -5.4446001052856445, -5.239799976348877, -5.773099899291992, -3.971100091934204, -5.054699897766113, -5.0071001052856445, -3.481100082397461, -4.83620023727417, -3.7263998985290527, -4.62939977645874, -4.5447998046875, -4.528800010681152, -4.59630012512207, -4.712500095367432, -4.822000026702881, -4.975599765777588, -4.618000030517578, -4.482999801635742, -4.5482001304626465, -4.690899848937988, -4.241199970245361, -4.581699848175049, -4.6793999671936035, -4.684299945831299, -4.695899963378906, -4.805500030517578, -4.617000102996826, -4.8354997634887695, -4.692500114440918, -4.591400146484375, -4.999300003051758, -5.312600135803223, -5.446899890899658, -5.594600200653076, -5.594600200653076, -5.772200107574463, -5.77269983291626, -4.359799861907959, -4.094900131225586, -5.318299770355225, -4.54010009765625, -5.336299896240234, -5.594699859619141, -5.594799995422363, -5.613800048828125, -4.550899982452393, -5.6504998207092285, -4.9695000648498535, -5.039700031280518, -5.455999851226807, -5.4670000076293945, -5.988399982452393, -5.98829984664917, -6.0071001052856445, -5.72160005569458, -4.549300193786621, -5.77810001373291, -5.167099952697754, -4.4405999183654785, -4.729300022125244, -4.087399959564209, -4.5071001052856445, -3.354300022125244, -4.539700031280518, -4.093100070953369, -4.746500015258789, -4.025300025939941, -4.444200038909912, -3.555299997329712, -4.838200092315674, -4.26609992980957, -4.937900066375732, -4.4822998046875, -3.609600067138672, -5.077199935913086, -4.640600204467773, -4.645699977874756, -4.786200046539307, -4.850399971008301, -4.7093000411987305, -4.793300151824951, -4.7083001136779785, -4.763199806213379, -4.763400077819824, -4.763599872589111, -4.002600193023682, -4.767199993133545, -4.9405999183654785, -2.953900098800659, -4.139900207519531, -4.101200103759766, -5.156799793243408, -5.157299995422363, -5.157400131225586, -5.187099933624268, -4.996799945831299, -3.937999963760376, -4.940700054168701, -4.940299987792969, -4.945199966430664, -5.222599983215332, -4.6570000648498535, -5.157199859619141, -4.970300197601318, -5.490900039672852, -4.917300224304199, -5.1570000648498535, -5.4334001541137695, -5.433700084686279, -5.4334001541137695, -5.204899787902832, -5.207900047302246, -4.958199977874756, -4.326099872589111, -5.051700115203857, -4.0777997970581055, -4.730299949645996, -4.570000171661377, -3.0699000358581543, -4.470099925994873, -3.897599935531616, -4.658100128173828, -4.635000228881836, -4.350200176239014, -4.263299942016602, -4.794099807739258, -4.790800094604492, -4.622600078582764, -4.646900177001953, -4.796299934387207, -4.830599784851074, -4.620299816131592, -4.8597002029418945, -4.877500057220459, -4.8520002365112305, -4.771200180053711, -4.775100231170654, -4.968999862670898, -5.224699974060059, -5.366199970245361, -4.770400047302246, -5.543799877166748, -5.544000148773193, -4.211400032043457, -5.0843000411987305, -4.689700126647949, -5.101399898529053, -4.699399948120117, -3.422300100326538, -5.021500110626221, -5.227200031280518, -5.366099834442139, -5.544000148773193, -4.7154998779296875, -4.928999900817871, -5.109600067138672, -4.437699794769287, -4.194200038909912, -5.771399974822998, -4.354400157928467, -4.797299861907959, -5.794000148773193, -5.110499858856201, -5.663400173187256, -5.21019983291626, -4.280700206756592, -2.9928998947143555, -4.102799892425537, -3.855600118637085, -3.9307000637054443, -4.117400169372559, -4.465799808502197, -4.857500076293945, -4.572800159454346, -4.602700233459473, -4.507400035858154, -4.567399978637695, -4.558599948883057, -4.8892998695373535, -4.43779993057251, -4.8277997970581055, -4.698299884796143, -4.641600131988525, -4.705999851226807, -4.654099941253662, -4.569799900054932, -5.05109977722168, -5.05109977722168, -5.051300048828125, -4.825500011444092, -4.57450008392334, -4.226200103759766, -5.286099910736084, -4.399499893188477, -5.051300048828125, -4.161799907684326, -4.809000015258789, -5.445199966430664, -5.445000171661377, -5.466800212860107, -5.476600170135498, -4.601799964904785, -5.249599933624268, -5.444799900054932, -5.228700160980225, -5.077499866485596, -5.686699867248535, -4.85860013961792, -5.721399784088135, -5.721099853515625, -5.72130012512207, -5.72160005569458, -5.322199821472168, -5.228799819946289, -3.941999912261963, -4.818999767303467, -5.088500022888184, -4.06879997253418, -5.106200218200684, -4.441500186920166, -3.737600088119507, -4.689700126647949, -4.240799903869629, -3.5680999755859375, -4.099999904632568, -4.725500106811523, -4.718400001525879, -3.6826000213623047, -4.536499977111816, -4.6371002197265625, -4.302800178527832, -4.567399978637695, -4.580900192260742, -4.58459997177124, -4.709700107574463, -4.61929988861084, -4.625100135803223, -4.767199993133545, -4.795000076293945, -4.383800029754639, -5.067999839782715, -5.0680999755859375, -5.349800109863281, -5.349899768829346, -5.350100040435791, -5.527599811553955, -5.527599811553955, -5.527699947357178, -4.79640007019043, -3.1514999866485596, -5.216000080108643, -5.5278000831604, -5.415299892425537, -5.19890022277832, -5.74370002746582, -5.745800018310547, -5.352700233459473, -4.489299774169922, -4.999100208282471, -5.349899768829346, -2.8408000469207764, -5.605100154876709, -5.743899822235107, -4.696100234985352, -2.677500009536743, -5.527699947357178, -4.6381001472473145, -4.791299819946289, -4.519700050354004, -5.026700019836426, -4.224100112915039, -3.037400007247925, -4.519899845123291, -4.571100234985352, -4.92549991607666, -4.072199821472168, -4.154099941253662, -4.516499996185303, -4.543700218200684, -4.88730001449585, -4.772500038146973, -4.346799850463867, -4.803299903869629, -4.593100070953369, -4.164299964904785, -4.981100082397461, -4.875800132751465, -4.810299873352051, -4.987299919128418, -4.9257001876831055, -4.954500198364258, -3.3645999431610107, -4.31879997253418, -5.079400062561035, -4.951700210571289, -5.257699966430664, -4.484000205993652, -4.583499908447266, -5.143099784851074, -4.330599784851074, -4.817599773406982, -4.949999809265137, -4.966599941253662, -5.311299800872803, -4.9720001220703125, -5.07919979095459, -5.079400062561035, -5.493199825286865, -5.257400035858154, -5.2571001052856445, -5.257199764251709, -4.307000160217285, -5.094900131225586, -5.327600002288818, -5.1128997802734375, -5.247300148010254, -5.2571001052856445, -4.464000225067139, -3.6865999698638916, -4.627799987792969, -4.330599784851074, -3.751300096511841, -4.099599838256836, -3.646399974822998, -4.200699806213379, -3.039099931716919, -4.816800117492676, -4.384699821472168, -4.642399787902832, -4.661600112915039, -4.356200218200684, -4.250400066375732, -4.628200054168701, -4.554900169372559, -4.618199825286865, -4.681099891662598, -4.641900062561035, -4.830699920654297, -4.8480000495910645, -4.870200157165527], \"loglift\": [30.0, 29.0, 28.0, 27.0, 26.0, 25.0, 24.0, 23.0, 22.0, 21.0, 20.0, 19.0, 18.0, 17.0, 16.0, 15.0, 14.0, 13.0, 12.0, 11.0, 10.0, 9.0, 8.0, 7.0, 6.0, 5.0, 4.0, 3.0, 2.0, 1.0, 1.9270999431610107, 1.9017000198364258, 1.873900055885315, 1.84660005569458, 1.8342000246047974, 1.8172999620437622, 1.8127000331878662, 1.7937999963760376, 1.7937999963760376, 1.7935999631881714, 1.7933000326156616, 1.7512999773025513, 1.7395999431610107, 1.6849000453948975, 1.660099983215332, 1.656599998474121, 1.6376999616622925, 1.6359000205993652, 1.603600025177002, 1.5784000158309937, 1.5745999813079834, 1.5535000562667847, 1.5526000261306763, 1.532099962234497, 1.4903000593185425, 1.4785000085830688, 1.468400001525879, 1.4563000202178955, 1.430400013923645, 1.4120999574661255, 1.3795000314712524, 1.2773000001907349, 0.6933000087738037, 1.1642999649047852, 0.4803999960422516, 1.034999966621399, 0.736299991607666, 0.7077999711036682, 0.786300003528595, 0.853600025177002, 0.9871000051498413, 1.180799961090088, 0.5439000129699707, 0.27889999747276306, 0.3093999922275543, 0.5666999816894531, -0.5349000096321106, 0.2231999933719635, 0.36579999327659607, 0.2635999917984009, 0.12729999423027039, 0.6080999970436096, -0.43799999356269836, 0.5468000173568726, 1.5321999788284302, 1.5155999660491943, 1.5130000114440918, 1.4873000383377075, 1.4708000421524048, 1.4565999507904053, 1.4565999507904053, 1.4330999851226807, 1.4326000213623047, 1.4184000492095947, 1.3777999877929688, 1.3743000030517578, 1.3654999732971191, 1.3568999767303467, 1.3245999813079834, 1.3209999799728394, 1.3055000305175781, 1.2649999856948853, 1.2648999691009521, 1.2561999559402466, 1.2497999668121338, 1.2395000457763672, 1.2263000011444092, 1.218999981880188, 1.217900037765503, 1.1974999904632568, 1.1969000101089478, 1.1898000240325928, 1.1397000551223755, 1.1223000288009644, 1.085800051689148, 1.0880999565124512, 1.0191999673843384, 1.0210000276565552, 0.8525000214576721, 1.0223000049591064, 0.8769999742507935, 0.9980000257492065, 0.7513999938964844, 0.8833000063896179, 0.4104999899864197, 0.9758999943733215, 0.7028999924659729, 1.0135999917984009, 0.7544000148773193, 0.09669999778270721, 1.0256999731063843, 0.40470001101493835, 0.36320000886917114, 0.5465999841690063, 0.6489999890327454, 0.05260000005364418, 0.3686000108718872, -0.4260999858379364, 2.2750000953674316, 2.274899959564209, 2.274600028991699, 2.2737998962402344, 2.2711000442504883, 2.0998001098632812, 2.0824999809265137, 2.075000047683716, 2.0524001121520996, 2.0378000736236572, 2.0373001098632812, 2.034600019454956, 2.0107998847961426, 1.9121999740600586, 1.8710999488830566, 1.8550000190734863, 1.8517999649047852, 1.8468999862670898, 1.8199000358581543, 1.7628999948501587, 1.7454999685287476, 1.7178000211715698, 1.7117999792099, 1.672700047492981, 1.6404000520706177, 1.6167000532150269, 1.6164000034332275, 1.6029000282287598, 1.590000033378601, 1.5823999643325806, 1.5485999584197998, 1.4098000526428223, 1.5426000356674194, 1.3046000003814697, 1.426900029182434, 1.329200029373169, 0.6365000009536743, 1.267799973487854, 0.925599992275238, 1.2454999685287476, 1.1791000366210938, 0.8118000030517578, 0.6845999956130981, 1.3098000288009644, 1.2589999437332153, 0.8769000172615051, 0.7121999859809875, 1.0688999891281128, 1.0658999681472778, -0.6543999910354614, 0.4677000045776367, 0.7506999969482422, -0.6452000141143799, 1.7451000213623047, 1.7411999702453613, 1.7295000553131104, 1.6966999769210815, 1.6886999607086182, 1.6658999919891357, 1.6650999784469604, 1.6648999452590942, 1.6555999517440796, 1.6123000383377075, 1.6022000312805176, 1.597100019454956, 1.593400001525879, 1.5902999639511108, 1.579200029373169, 1.5776000022888184, 1.5543999671936035, 1.5109000205993652, 1.5089000463485718, 1.5082999467849731, 1.492799997329712, 1.4709999561309814, 1.4387999773025513, 1.4362000226974487, 1.4306999444961548, 1.4266999959945679, 1.4117000102996826, 1.4046000242233276, 1.3905999660491943, 1.3896000385284424, 1.3858000040054321, 1.2892999649047852, 1.3113000392913818, 1.2305999994277954, 0.8312000036239624, 0.7057999968528748, 0.9164999723434448, 1.097599983215332, 0.8059999942779541, 0.7078999876976013, 0.5016000270843506, 0.5392000079154968, 0.4778999984264374, 1.065500020980835, -0.23109999299049377, 0.8777999877929688, 0.2718000113964081, -0.4625000059604645, -0.9995999932289124, 2.022700071334839, 2.011899948120117, 1.9830000400543213, 1.9830000400543213, 1.9829000234603882, 1.9579999446868896, 1.9228999614715576, 1.9212000370025635, 1.9038000106811523, 1.8743000030517578, 1.8521000146865845, 1.7760000228881836, 1.7755999565124512, 1.746899962425232, 1.746399998664856, 1.7278000116348267, 1.7151999473571777, 1.677899956703186, 1.6589000225067139, 1.593999981880188, 1.558899998664856, 1.5111000537872314, 1.503600001335144, 1.4904999732971191, 1.476699948310852, 1.4743000268936157, 1.4739999771118164, 1.472499966621399, 1.4671000242233276, 1.4543999433517456, 1.4368000030517578, 1.3967000246047974, 1.4155999422073364, 1.3100999593734741, 1.3954999446868896, 1.2546000480651855, 1.0672999620437622, 1.2559000253677368, 1.0642000436782837, 0.6110000014305115, 0.8479999899864197, 1.1786999702453613, 1.0555000305175781, 0.02370000071823597, 0.8766000270843506, 0.6904000043869019, -0.09610000252723694, 0.4415000081062317, 0.3880999982357025, 0.17730000615119934, 0.571399986743927, 0.1573999971151352, -0.6593000292778015, 0.4902999997138977, 0.29120001196861267, 1.792199969291687, 1.7431999444961548, 1.7431999444961548, 1.7122000455856323, 1.7121000289916992, 1.711899995803833, 1.6883000135421753, 1.6881999969482422, 1.6881999969482422, 1.6448999643325806, 1.6054999828338623, 1.5931999683380127, 1.5303000211715698, 1.5089999437332153, 1.5046000480651855, 1.4701999425888062, 1.4686000347137451, 1.4557000398635864, 1.3758000135421753, 1.3668999671936035, 1.3530999422073364, 1.3336999416351318, 1.317199945449829, 1.3157999515533447, 1.308899998664856, 1.2884000539779663, 1.2805999517440796, 1.2760000228881836, 1.2684999704360962, 1.2668999433517456, 1.2648999691009521, 1.2206000089645386, 1.1416000127792358, 1.1872999668121338, 1.1749999523162842, 1.1883000135421753, 0.732699990272522, 0.703499972820282, 0.8967000246047974, 0.8698999881744385, 1.120300054550171, 0.972000002861023, 0.4763999879360199, 0.7961000204086304, 0.415800005197525, -0.4580000042915344, 1.079200029373169, 0.6902999877929688, 0.13760000467300415, 1.0164999961853027, 0.3849000036716461, 0.23929999768733978, 2.081399917602539, 2.0432000160217285, 1.9752999544143677, 1.969499945640564, 1.9509999752044678, 1.950600028038025, 1.9319000244140625, 1.9107999801635742, 1.8990999460220337, 1.8797999620437622, 1.854599952697754, 1.8365000486373901, 1.7419999837875366, 1.7258000373840332, 1.718999981880188, 1.7187999486923218, 1.715499997138977, 1.6619000434875488, 1.6601999998092651, 1.6592999696731567, 1.6450999975204468, 1.595900058746338, 1.5922000408172607, 1.5815000534057617, 1.556399941444397, 1.545699954032898, 1.4896999597549438, 1.4824999570846558, 1.4811999797821045, 1.4500000476837158, 1.4424999952316284, 1.2626999616622925, 1.1303000450134277, 1.1782000064849854, 0.6672999858856201, 1.4097000360488892, 1.1470999717712402, 1.2568000555038452, 1.034500002861023, 0.6128000020980835, 0.03189999982714653, 0.6823999881744385, 0.4578000009059906, 0.4269999861717224, 0.6000000238418579, 0.21580000221729279, 0.7312999963760376, 0.7513999938964844, -0.06530000269412994]}, \"token.table\": {\"Topic\": [5, 2, 5, 3, 5, 6, 7, 1, 2, 3, 4, 6, 3, 6, 5, 6, 1, 3, 4, 1, 2, 2, 1, 5, 7, 2, 6, 1, 2, 3, 6, 4, 6, 7, 1, 2, 3, 4, 5, 7, 4, 5, 2, 3, 4, 1, 4, 4, 1, 2, 1, 2, 3, 5, 6, 7, 1, 2, 3, 4, 5, 6, 7, 4, 5, 5, 4, 5, 7, 1, 3, 7, 1, 2, 5, 6, 7, 1, 1, 2, 3, 1, 3, 4, 5, 6, 2, 3, 5, 6, 1, 2, 3, 6, 2, 7, 1, 5, 2, 3, 5, 7, 7, 2, 4, 5, 6, 1, 4, 5, 2, 3, 4, 5, 6, 2, 2, 1, 3, 4, 5, 1, 3, 4, 5, 2, 3, 5, 6, 5, 7, 2, 1, 5, 1, 2, 3, 6, 7, 2, 5, 6, 7, 2, 3, 1, 2, 3, 5, 6, 1, 3, 7, 2, 3, 7, 6, 1, 3, 7, 2, 4, 6, 7, 1, 4, 7, 3, 4, 7, 2, 3, 4, 5, 3, 5, 6, 7, 7, 2, 3, 1, 2, 4, 6, 6, 7, 1, 2, 4, 1, 3, 3, 1, 4, 5, 7, 2, 1, 2, 6, 3, 4, 5, 6, 7, 1, 2, 3, 1, 2, 3, 4, 5, 7, 4, 7, 2, 4, 3, 4, 5, 1, 3, 7, 1, 3, 4, 3, 5, 7, 6, 1, 5, 1, 2, 4, 5, 6, 7, 1, 6, 3, 4, 1, 7, 6, 7, 4, 2, 6, 2, 3, 6, 4, 7, 2, 3, 5, 6, 5, 6, 1, 5, 6, 5, 3, 5, 2, 4, 6, 3, 7, 4, 5, 6, 1, 5, 3, 4, 5, 6, 1, 1, 1, 2, 3, 5, 6, 7, 6, 7, 4, 1, 2, 1, 3, 6, 6, 6, 2, 7, 4, 1, 4, 6, 7, 5, 7, 1, 5, 6, 7, 1, 2, 4, 5, 7, 2, 3, 5, 7, 2, 5, 2, 7, 2, 5, 6, 4, 6, 1, 2, 5, 1, 2, 1, 2, 3, 4, 2, 5, 6, 1, 3, 5, 1, 2, 3, 4, 5, 4, 6, 3, 5, 7, 1, 2, 3, 4, 6, 7, 6, 2, 4, 2, 5, 3, 4, 2, 6, 7, 1, 1, 1, 2, 4, 3, 6, 3, 6, 1, 1, 3, 1, 2, 5, 6, 2, 5, 6, 7, 5, 6, 7, 2, 5, 6, 2, 5, 4, 7, 4, 7, 2, 3, 1, 7, 2, 4, 5, 7, 3, 4, 5, 6, 7, 2, 3, 5, 1, 2, 4, 5, 6, 7, 2, 6, 2, 3, 4, 5, 7, 2, 1, 2, 4, 5, 6, 7, 1, 2, 3, 6, 7, 1, 7, 2, 4, 1, 2, 3, 4, 6, 7, 1, 3, 6, 7, 2, 4, 7, 3, 1, 4, 6, 2, 6, 5, 6, 6, 7, 2, 7, 3, 5, 1, 2, 3, 4, 5, 2, 4, 5, 7, 7, 3, 4, 1, 2, 6, 5, 7, 5, 3, 4, 7, 1, 2, 4, 5, 6, 7, 1, 2, 4, 3, 4, 5, 7, 1, 3, 4, 7, 4, 5, 6, 2, 5, 1, 2, 3, 4, 5, 6, 1, 3, 4, 5, 1, 2, 6, 7, 5, 2, 4, 5, 6, 7, 1, 2, 2, 3, 2, 5, 6, 7, 1, 2, 3, 4, 6, 7, 1, 3, 1, 2, 3, 7, 6, 6, 1, 4, 5, 6, 4, 5, 6, 1, 1, 2, 7, 1, 2, 3, 4, 5, 6, 7, 1, 2, 6, 7, 3, 4, 7, 2, 5, 7, 1, 2, 4, 5, 6, 7, 1, 7, 1, 2, 3, 5, 7, 2, 4, 5, 6, 2, 5, 6, 7, 2, 4, 5, 5, 6, 7, 1, 3, 3, 4, 5, 6, 7, 1, 5, 7, 1, 5, 1, 2, 4, 7, 1, 3, 2, 4, 6, 2, 1, 2, 3, 5, 3, 4, 5, 1, 2, 6, 7, 3, 5, 1, 2, 3, 4, 6, 7, 1, 4, 5, 6, 7, 6, 2, 5, 3, 4, 4, 7, 4, 2, 5, 7, 3, 1, 4, 6, 7, 1, 7, 1, 2, 3, 3, 6, 1, 2, 3, 4, 7, 2, 3, 4, 5, 1, 2, 3, 4, 5, 2, 4, 3, 4, 5, 6, 7, 1, 2, 1, 6, 3, 6, 2, 3, 5, 1, 2, 4, 6, 3, 4, 4, 2, 3, 7, 5, 1, 3, 7, 2, 5, 6, 7, 1, 2, 3, 5, 7, 2, 4, 6, 7, 1, 2, 5, 6, 7, 5, 3, 5, 1, 4, 7, 1, 6, 7, 4, 7, 3, 5, 6, 7, 5, 6, 7, 5, 6, 2, 6, 2, 7, 6, 1, 2, 3, 5, 1, 2, 3, 5, 6, 3, 6, 1, 2, 3, 4, 6, 4, 5, 6, 7, 1, 5, 2, 4, 7, 2, 3, 5, 6, 7, 1, 2, 3, 5, 1, 2, 3, 4, 7, 1, 2, 4, 5, 6, 7, 1, 2, 3, 7, 2, 6], \"Freq\": [0.875913143157959, 0.35228437185287476, 0.5284265279769897, 0.10713153332471848, 0.16069729626178741, 0.5892234444618225, 0.10713153332471848, 0.11911381036043167, 0.19852301478385925, 0.03970460221171379, 0.3970460295677185, 0.27793222665786743, 0.5905810594558716, 0.35434865951538086, 0.6610600352287292, 0.26442402601242065, 0.25865352153778076, 0.3448713719844818, 0.40234991908073425, 0.6389437913894653, 0.21298126876354218, 0.8894916772842407, 0.6640709638595581, 0.1328141838312149, 0.1328141838312149, 0.30742061138153076, 0.6148412227630615, 0.2981107234954834, 0.4223235547542572, 0.07452768087387085, 0.19874049723148346, 0.7428219318389893, 0.1650715321302414, 0.0825357660651207, 0.2536070942878723, 0.2997174859046936, 0.20749671757221222, 0.09222076088190079, 0.16138634085655212, 0.764491617679596, 0.3778562843799591, 0.5289987921714783, 0.7463167309761047, 0.10661667585372925, 0.10661667585372925, 0.17829807102680206, 0.7131922841072083, 0.8932463526725769, 0.17778004705905914, 0.7111201882362366, 0.1861293613910675, 0.13029055297374725, 0.1861293613910675, 0.27919405698776245, 0.1861293613910675, 0.0372258722782135, 0.08604519814252853, 0.22586864233016968, 0.17209039628505707, 0.05915607139468193, 0.12368996441364288, 0.1021786704659462, 0.23662428557872772, 0.13153672218322754, 0.78922039270401, 0.8995254635810852, 0.6491263508796692, 0.11455170810222626, 0.19091950356960297, 0.1176806092262268, 0.588403046131134, 0.2353612184524536, 0.031368792057037354, 0.43916308879852295, 0.1411595642566681, 0.015684396028518677, 0.37642550468444824, 0.987723708152771, 0.17722539603710175, 0.5907512903213501, 0.236300528049469, 0.1643124520778656, 0.23003743588924408, 0.3286249041557312, 0.01643124409019947, 0.2464686781167984, 0.09226974099874496, 0.01537829078733921, 0.09226974099874496, 0.7842928171157837, 0.11931109428405762, 0.3181629180908203, 0.03977036476135254, 0.517014741897583, 0.7479432821273804, 0.21369808912277222, 0.1755066215991974, 0.7020264863967896, 0.5310862064361572, 0.30980029702186584, 0.08851436525583267, 0.08851436525583267, 0.9800875782966614, 0.14961408078670502, 0.5557094216346741, 0.17098751664161682, 0.1282406449317932, 0.2347310483455658, 0.1173655241727829, 0.4694620966911316, 0.3067411184310913, 0.048799723386764526, 0.006971389055252075, 0.06274250149726868, 0.5716539025306702, 0.8896575570106506, 0.9489036202430725, 0.08111768215894699, 0.48670610785484314, 0.08111768215894699, 0.24335305392742157, 0.49583640694618225, 0.07083377242088318, 0.21250131726264954, 0.14166754484176636, 0.3742748498916626, 0.3742748498916626, 0.124758280813694, 0.062379140406847, 0.23682771623134613, 0.7104831337928772, 0.9149543642997742, 0.35184571146965027, 0.5277685523033142, 0.08201488852500916, 0.2050372213125229, 0.3280595541000366, 0.24604466557502747, 0.1640297770500183, 0.07866773754358292, 0.43267256021499634, 0.11800161004066467, 0.354004830121994, 0.7462326884269714, 0.1066046729683876, 0.2668769657611847, 0.14826498925685883, 0.029652997851371765, 0.1779179871082306, 0.38548895716667175, 0.6690245866775513, 0.19677193462848663, 0.11806315928697586, 0.21212716400623322, 0.5303179025650024, 0.21212716400623322, 0.898945152759552, 0.11769118905067444, 0.5884559154510498, 0.23538237810134888, 0.11322521418333054, 0.339675635099411, 0.45290085673332214, 0.05661260709166527, 0.11895322054624557, 0.23790644109249115, 0.5947661399841309, 0.19419676065444946, 0.6796886920928955, 0.09709838032722473, 0.06667948514223099, 0.06667948514223099, 0.6667948365211487, 0.13335897028446198, 0.0882398933172226, 0.5294393301010132, 0.1764797866344452, 0.2647196650505066, 0.892536997795105, 0.7991486191749573, 0.13319143652915955, 0.041348982602357864, 0.28944289684295654, 0.12404695153236389, 0.49618780612945557, 0.7181614637374878, 0.17954036593437195, 0.4799429178237915, 0.37328892946243286, 0.15998098254203796, 0.17601069808006287, 0.7040427923202515, 0.9032014012336731, 0.15143467485904694, 0.20191289484500885, 0.4038257896900177, 0.15143467485904694, 0.9340823888778687, 0.34535637497901917, 0.34535637497901917, 0.31082072854042053, 0.3361240029335022, 0.28010332584381104, 0.11204133182764053, 0.1680620014667511, 0.05602066591382027, 0.6075958013534546, 0.22784842550754547, 0.15189895033836365, 0.0367499478161335, 0.2572496235370636, 0.1837497353553772, 0.293999582529068, 0.0367499478161335, 0.146999791264534, 0.7502264976501465, 0.10717520862817764, 0.2676452696323395, 0.6245056390762329, 0.09563742578029633, 0.09563742578029633, 0.6694619655609131, 0.17696025967597961, 0.44240066409111023, 0.35392051935195923, 0.1322842240333557, 0.6614211201667786, 0.1322842240333557, 0.10017287731170654, 0.7012101411819458, 0.15025931596755981, 0.9249602556228638, 0.30121085047721863, 0.6024217009544373, 0.2536877691745758, 0.1268438845872879, 0.17758144438266754, 0.20295022428035736, 0.10147511214017868, 0.1268438845872879, 0.11971920728683472, 0.7183152437210083, 0.7320616245269775, 0.2643555700778961, 0.7987083792686462, 0.13311806321144104, 0.5980914831161499, 0.35885488986968994, 0.8927304148674011, 0.8019599318504333, 0.1336599886417389, 0.11831983923912048, 0.47327935695648193, 0.35495951771736145, 0.21420003473758698, 0.6426001191139221, 0.14270031452178955, 0.14270031452178955, 0.14270031452178955, 0.5708012580871582, 0.7888703346252441, 0.08765225857496262, 0.6076653599739075, 0.15191633999347687, 0.15191633999347687, 0.8582472801208496, 0.7021666765213013, 0.17554166913032532, 0.8894871473312378, 0.6878538131713867, 0.3009360432624817, 0.7268901467323303, 0.2643236815929413, 0.13406123220920563, 0.13406123220920563, 0.5362449288368225, 0.17544987797737122, 0.7017995119094849, 0.2794514298439026, 0.046575237065553665, 0.046575237065553665, 0.6054781079292297, 0.9517747759819031, 0.8866108059883118, 0.3162219226360321, 0.22997957468032837, 0.14373722672462463, 0.11498978734016418, 0.08624234050512314, 0.11498978734016418, 0.1191631332039833, 0.8341419696807861, 0.9645891189575195, 0.7098029851913452, 0.1774507462978363, 0.08286472409963608, 0.08286472409963608, 0.8286471962928772, 0.8989481329917908, 0.9249669313430786, 0.11898132413625717, 0.7138879299163818, 0.8927401900291443, 0.13381218910217285, 0.8028731346130371, 0.13412530720233917, 0.8047518134117126, 0.2368236929178238, 0.7104710936546326, 0.2005494236946106, 0.06684980541467667, 0.2005494236946106, 0.46794864535331726, 0.15207728743553162, 0.41821253299713135, 0.019009660929441452, 0.17108695209026337, 0.22811593115329742, 0.11456409096717834, 0.028641022741794586, 0.4582563638687134, 0.400974303483963, 0.6656562685966492, 0.1331312507390976, 0.6677832007408142, 0.26711326837539673, 0.7120100855827332, 0.07120101153850555, 0.1424020230770111, 0.8398953080177307, 0.13998255133628845, 0.13277432322502136, 0.5974844098091125, 0.2323550581932068, 0.8187517523765564, 0.16375035047531128, 0.13321809470653534, 0.6216844320297241, 0.13321809470653534, 0.13321809470653534, 0.24470306932926178, 0.2141151875257492, 0.5505818724632263, 0.6750774383544922, 0.19287927448749542, 0.09643963724374771, 0.24029040336608887, 0.04805808141827583, 0.24029040336608887, 0.1441742479801178, 0.2883484959602356, 0.8343845009803772, 0.1191977858543396, 0.337332159280777, 0.19276122748851776, 0.43371278047561646, 0.05096156522631645, 0.1019231304526329, 0.15288469195365906, 0.5096156597137451, 0.15288469195365906, 0.05096156522631645, 0.9533702731132507, 0.3058463931083679, 0.6116927862167358, 0.8523763418197632, 0.1065470427274704, 0.1943698674440384, 0.7774794697761536, 0.2154194414615631, 0.7539680600166321, 0.9185868501663208, 0.8866004943847656, 0.8866360187530518, 0.5327467322349548, 0.177582249045372, 0.177582249045372, 0.5323398113250732, 0.35489320755004883, 0.7063609957695007, 0.17659024894237518, 0.945633590221405, 0.17600823938846588, 0.7040329575538635, 0.2834198474884033, 0.051530882716178894, 0.06011936068534851, 0.6011936068534851, 0.8539356589317322, 0.04269678145647049, 0.04269678145647049, 0.04269678145647049, 0.5299118757247925, 0.17663729190826416, 0.17663729190826416, 0.2963807284832001, 0.2963807284832001, 0.38529491424560547, 0.17556540668010712, 0.7022616267204285, 0.1785188913345337, 0.7140755653381348, 0.7942886352539062, 0.19857215881347656, 0.24860453605651855, 0.683662474155426, 0.1528080403804779, 0.7640402317047119, 0.02966770902276039, 0.5933541655540466, 0.14833854138851166, 0.20767396688461304, 0.06966555118560791, 0.13933110237121582, 0.13933110237121582, 0.09288740158081055, 0.5341025590896606, 0.3524214029312134, 0.46989521384239197, 0.23494760692119598, 0.21879763901233673, 0.35554617643356323, 0.16409823298454285, 0.10939881950616837, 0.08204911649227142, 0.05469940975308418, 0.536669135093689, 0.4128223955631256, 0.49477365612983704, 0.05708926543593407, 0.2093273103237152, 0.1332082897424698, 0.11417853087186813, 0.9341870546340942, 0.18544556200504303, 0.2163531631231308, 0.37089112401008606, 0.13908417522907257, 0.03090759553015232, 0.04636139050126076, 0.19361567497253418, 0.24201959371566772, 0.29042351245880127, 0.19361567497253418, 0.048403918743133545, 0.26729944348335266, 0.6682485938072205, 0.7122187614440918, 0.17805469036102295, 0.19654643535614014, 0.1403903067111969, 0.19654643535614014, 0.16846837103366852, 0.11231224983930588, 0.19654643535614014, 0.23605456948280334, 0.4721091389656067, 0.11802728474140167, 0.23605456948280334, 0.14287158846855164, 0.7857937216758728, 0.07143579423427582, 0.9031820893287659, 0.5759666562080383, 0.0822809487581253, 0.3291237950325012, 0.17942698299884796, 0.7177079319953918, 0.13432945311069489, 0.6716472506523132, 0.6151554584503174, 0.3075777292251587, 0.9491167664527893, 0.05931979790329933, 0.35051223635673523, 0.5257683396339417, 0.436227023601532, 0.06231814622879028, 0.06231814622879028, 0.12463629245758057, 0.3115907311439514, 0.09729911386966705, 0.6810938119888306, 0.04864955693483353, 0.09729911386966705, 0.9181707501411438, 0.1779833287000656, 0.7119333148002625, 0.031458158046007156, 0.8179121017456055, 0.15729078650474548, 0.31905847787857056, 0.6381169557571411, 0.8167946338653564, 0.07136774808168411, 0.7850452065467834, 0.07136774808168411, 0.20515090227127075, 0.30772635340690613, 0.12309054285287857, 0.12309054285287857, 0.061545271426439285, 0.18463581800460815, 0.1334536373615265, 0.6672682166099548, 0.1334536373615265, 0.0960194543004036, 0.0960194543004036, 0.576116681098938, 0.1920389086008072, 0.040931206196546555, 0.3683808743953705, 0.2865184545516968, 0.24558724462985992, 0.193734809756279, 0.387469619512558, 0.387469619512558, 0.1401754915714264, 0.7709651589393616, 0.09693461656570435, 0.3877384662628174, 0.2261807769536972, 0.06462308019399643, 0.032311540096998215, 0.1938692331314087, 0.8231523036956787, 0.034298013895750046, 0.06859602779150009, 0.034298013895750046, 0.23774117231369019, 0.11887058615684509, 0.059435293078422546, 0.5349176526069641, 0.8995204567909241, 0.5652323961257935, 0.033248964697122574, 0.23274274170398712, 0.033248964697122574, 0.1329958587884903, 0.8790388107299805, 0.09253040701150894, 0.150859534740448, 0.75429767370224, 0.23940633237361908, 0.34580913186073303, 0.2128056287765503, 0.15960422158241272, 0.18707275390625, 0.11904630064964294, 0.06802646070718765, 0.1360529214143753, 0.3231256604194641, 0.15305952727794647, 0.7587488293647766, 0.15174975991249084, 0.7983524799346924, 0.13305875658988953, 0.2665446996688843, 0.6663616895675659, 0.9249696731567383, 0.8989611864089966, 0.05727267637848854, 0.37227240204811096, 0.515454113483429, 0.05727267637848854, 0.3210476040840149, 0.21403172612190247, 0.42806345224380493, 0.9119036793708801, 0.3562306761741638, 0.10178019106388092, 0.559791088104248, 0.094903863966465, 0.04313812032341957, 0.017255248501896858, 0.10353148728609085, 0.2243182212114334, 0.4917745590209961, 0.025882871821522713, 0.930897057056427, 0.23924283683300018, 0.7177284955978394, 0.9373349547386169, 0.9032443165779114, 0.3571855425834656, 0.5953091979026794, 0.6570014357566833, 0.04106258973479271, 0.24637553095817566, 0.06695856899023056, 0.13391713798046112, 0.58349609375, 0.019131019711494446, 0.06695856899023056, 0.1243516281247139, 0.10705443471670151, 0.7493810057640076, 0.03439784795045853, 0.5847634077072144, 0.03439784795045853, 0.06879569590091705, 0.2407849282026291, 0.2967638075351715, 0.27697956562042236, 0.197842538356781, 0.23741105198860168, 0.6407080888748169, 0.07118978351354599, 0.07118978351354599, 0.14237956702709198, 0.33065393567085266, 0.13226157426834106, 0.46291548013687134, 0.05972299724817276, 0.5375069975852966, 0.35833796858787537, 0.7966871857643127, 0.13278119266033173, 0.08025134354829788, 0.32100537419319153, 0.10700178891420364, 0.24075402319431305, 0.24075402319431305, 0.13339048624038696, 0.13339048624038696, 0.6669524908065796, 0.1235327199101448, 0.8029626607894897, 0.056339263916015625, 0.2535266876220703, 0.2253570556640625, 0.4225444793701172, 0.3963300585746765, 0.5724767446517944, 0.10765429586172104, 0.21530859172344208, 0.645925760269165, 0.9149557948112488, 0.8866416811943054, 0.31662723422050476, 0.10554241389036179, 0.5277120471000671, 0.13341543078422546, 0.7337848544120789, 0.06670771539211273, 0.10741644352674484, 0.21483288705348969, 0.4833739995956421, 0.10741644352674484, 0.5258128046989441, 0.3943595886230469, 0.10712131857872009, 0.10712131857872009, 0.14282841980457306, 0.035707104951143265, 0.35707104206085205, 0.24994973838329315, 0.1774582862854004, 0.016132572665810585, 0.3549165725708008, 0.3226514458656311, 0.11292800307273865, 0.9596778154373169, 0.3522789478302002, 0.5284184217453003, 0.10696834325790405, 0.8557467460632324, 0.7653104662895203, 0.15306209027767181, 0.8932197093963623, 0.15242891013622284, 0.15242891013622284, 0.6097156405448914, 0.9031943678855896, 0.14672522246837616, 0.14672522246837616, 0.5869008898735046, 0.14672522246837616, 0.08923854678869247, 0.8031468987464905, 0.15117503702640533, 0.15117503702640533, 0.6047001481056213, 0.4569968283176422, 0.4569968283176422, 0.096561960875988, 0.096561960875988, 0.386247843503952, 0.193123921751976, 0.096561960875988, 0.4896790683269501, 0.1360219568014145, 0.10881756991147995, 0.24483953416347504, 0.23062320053577423, 0.4789866507053375, 0.04435061663389206, 0.12418172508478165, 0.10644147545099258, 0.29542046785354614, 0.6646960377693176, 0.35480791330337524, 0.35480791330337524, 0.059134650975465775, 0.11826930195093155, 0.059134650975465775, 0.7604029774665833, 0.15208059549331665, 0.6415481567382812, 0.3207740783691406, 0.1535484790802002, 0.767742395401001, 0.38463693857192993, 0.4807961881160736, 0.09615923464298248, 0.1308821439743042, 0.5671559572219849, 0.28357797861099243, 0.021813690662384033, 0.8432665467262268, 0.07027220726013184, 0.9183861017227173, 0.8245058059692383, 0.09700068086385727, 0.09700068086385727, 0.9438130855560303, 0.2134675830602646, 0.1067337915301323, 0.6404027342796326, 0.36709654331207275, 0.13348965346813202, 0.10011723637580872, 0.36709654331207275, 0.5752872228622437, 0.1438218057155609, 0.028764359652996063, 0.057528719305992126, 0.17258615791797638, 0.17223221063613892, 0.04305805265903473, 0.5597547292709351, 0.21529026329517365, 0.023802168667316437, 0.1904173493385315, 0.07140650600194931, 0.1904173493385315, 0.5236477255821228, 0.8995468020439148, 0.450715035200119, 0.450715035200119, 0.09735176712274551, 0.6814624071121216, 0.09735176712274551, 0.22634440660476685, 0.5658610463142395, 0.16975830495357513, 0.8245496153831482, 0.08245495706796646, 0.17604809999465942, 0.5281442999839783, 0.08802404999732971, 0.17604809999465942, 0.13371363282203674, 0.13371363282203674, 0.534854531288147, 0.7040385603904724, 0.1760096400976181, 0.8019254207611084, 0.13365423679351807, 0.4707784652709961, 0.5135765075683594, 0.9597002863883972, 0.04434064403176308, 0.7094503045082092, 0.13302193582057953, 0.04434064403176308, 0.10155322402715683, 0.5585427284240723, 0.050776612013578415, 0.10155322402715683, 0.15232983231544495, 0.45699694752693176, 0.45699694752693176, 0.9001848697662354, 0.15283696353435516, 0.15283696353435516, 0.4585109055042267, 0.20378261804580688, 0.9375971555709839, 0.6345040202140808, 0.211501345038414, 0.070500448346138, 0.35147902369499207, 0.5857983231544495, 0.7347889542579651, 0.13359799981117249, 0.06679899990558624, 0.29760026931762695, 0.08502864837646484, 0.3401145935058594, 0.2125716209411621, 0.04251432418823242, 0.7073612213134766, 0.0707361251115799, 0.0707361251115799, 0.1414722502231598, 0.41915398836135864, 0.15241964161396027, 0.07620982080698013, 0.19052454829216003, 0.19052454829216003, 0.28570038080215454, 0.07791828364133835, 0.07791828364133835, 0.2077821046113968, 0.1038910523056984, 0.23375485837459564, 0.6654207706451416, 0.2661683261394501, 0.08231271803379059, 0.8231272101402283, 0.7131109833717346, 0.17827774584293365], \"Term\": [\"acierto\", \"adapta\", \"adapta\", \"adem\\u00e1s\", \"adem\\u00e1s\", \"adem\\u00e1s\", \"adem\\u00e1s\", \"ahora\", \"ahora\", \"ahora\", \"ahora\", \"ahora\", \"ajusta\", \"ajusta\", \"alta\", \"alta\", \"amazon\", \"amazon\", \"amazon\", \"anillo\", \"anillo\", \"articulo\", \"asi\", \"asi\", \"asi\", \"aspecto\", \"aspecto\", \"as\\u00ed\", \"as\\u00ed\", \"as\\u00ed\", \"as\\u00ed\", \"aun\", \"aun\", \"aun\", \"aunque\", \"aunque\", \"aunque\", \"aunque\", \"aunque\", \"azul\", \"a\\u00f1os\", \"a\\u00f1os\", \"baja\", \"baja\", \"baja\", \"bajo\", \"bajo\", \"barato\", \"baratos\", \"baratos\", \"bastante\", \"bastante\", \"bastante\", \"bastante\", \"bastante\", \"bastante\", \"bien\", \"bien\", \"bien\", \"bien\", \"bien\", \"bien\", \"bien\", \"bolsa\", \"bolsa\", \"bolsita\", \"bonita\", \"bonita\", \"bonita\", \"bonitas\", \"bonitas\", \"bonitas\", \"bonito\", \"bonito\", \"bonito\", \"bonito\", \"bonito\", \"bonitos\", \"botones\", \"botones\", \"botones\", \"buen\", \"buen\", \"buen\", \"buen\", \"buen\", \"buena\", \"buena\", \"buena\", \"buena\", \"bueno\", \"bueno\", \"bueno\", \"bueno\", \"buenos\", \"buenos\", \"buscaba\", \"buscaba\", \"cable\", \"cable\", \"cable\", \"cable\", \"cadena\", \"caja\", \"caja\", \"caja\", \"caja\", \"cajita\", \"cajita\", \"cajita\", \"calidad\", \"calidad\", \"calidad\", \"calidad\", \"calidad\", \"cargador\", \"cargar\", \"casa\", \"casa\", \"casa\", \"casa\", \"casi\", \"casi\", \"casi\", \"casi\", \"caso\", \"caso\", \"caso\", \"caso\", \"castellano\", \"castellano\", \"cerrar\", \"certificado\", \"certificado\", \"cierre\", \"cierre\", \"cierre\", \"cierre\", \"cierre\", \"colgante\", \"colgante\", \"colgante\", \"colgante\", \"colores\", \"colores\", \"compra\", \"compra\", \"compra\", \"compra\", \"compra\", \"comprar\", \"comprar\", \"comprar\", \"conectar\", \"conectar\", \"conectar\", \"conjunto\", \"correctamente\", \"correctamente\", \"correctamente\", \"correcto\", \"correcto\", \"correcto\", \"correcto\", \"corresponde\", \"corresponde\", \"corresponde\", \"cosas\", \"cosas\", \"cosas\", \"creo\", \"creo\", \"creo\", \"creo\", \"cuanto\", \"cuanto\", \"cuanto\", \"cuanto\", \"cuello\", \"cuenta\", \"cuenta\", \"cumple\", \"cumple\", \"cumple\", \"cumple\", \"c\\u00f3digo\", \"c\\u00f3digo\", \"da\", \"da\", \"da\", \"debido\", \"debido\", \"decepcionado\", \"decir\", \"decir\", \"decir\", \"decir\", \"dejado\", \"demasiado\", \"demasiado\", \"demasiado\", \"dem\\u00e1s\", \"dem\\u00e1s\", \"dem\\u00e1s\", \"dem\\u00e1s\", \"dem\\u00e1s\", \"descripci\\u00f3n\", \"descripci\\u00f3n\", \"descripci\\u00f3n\", \"despu\\u00e9s\", \"despu\\u00e9s\", \"despu\\u00e9s\", \"despu\\u00e9s\", \"despu\\u00e9s\", \"despu\\u00e9s\", \"devoluci\\u00f3n\", \"devoluci\\u00f3n\", \"devolver\", \"devolver\", \"devuelto\", \"devuelto\", \"devuelto\", \"dice\", \"dice\", \"dice\", \"dicen\", \"dicen\", \"dicen\", \"dise\\u00f1o\", \"dise\\u00f1o\", \"dise\\u00f1o\", \"divertido\", \"dorado\", \"dorado\", \"dos\", \"dos\", \"dos\", \"dos\", \"dos\", \"dos\", \"duda\", \"duda\", \"d\\u00eda\", \"d\\u00eda\", \"elegantes\", \"elegantes\", \"embalaje\", \"embalaje\", \"empresa\", \"encajan\", \"encajan\", \"encanta\", \"encanta\", \"encanta\", \"encantada\", \"encantada\", \"encantado\", \"encantado\", \"encantado\", \"encantado\", \"encant\\u00f3\", \"encant\\u00f3\", \"enga\\u00f1o\", \"enga\\u00f1o\", \"enga\\u00f1o\", \"enseguida\", \"entender\", \"entender\", \"entra\", \"entrega\", \"entrega\", \"entregado\", \"entregado\", \"entretenido\", \"entretenido\", \"entretenido\", \"enviaron\", \"enviaron\", \"env\\u00edo\", \"env\\u00edo\", \"env\\u00edo\", \"env\\u00edo\", \"espa\\u00f1ol\", \"espa\\u00f1ola\", \"esperaba\", \"esperaba\", \"esperaba\", \"esperaba\", \"esperaba\", \"esperaba\", \"esperado\", \"esperado\", \"esperando\", \"exactamente\", \"exactamente\", \"expectativas\", \"expectativas\", \"expectativas\", \"familia\", \"fan\", \"fatal\", \"fatal\", \"fea\", \"fecha\", \"fecha\", \"fina\", \"fina\", \"fino\", \"fino\", \"forma\", \"forma\", \"forma\", \"forma\", \"foto\", \"foto\", \"foto\", \"foto\", \"foto\", \"funciona\", \"funciona\", \"funciona\", \"funciona\", \"funcionan\", \"funcionan\", \"funcionar\", \"funcionar\", \"funda\", \"funda\", \"funda\", \"gracias\", \"gracias\", \"grande\", \"grande\", \"grande\", \"grandes\", \"grandes\", \"gusta\", \"gusta\", \"gusta\", \"gusta\", \"gustado\", \"gustado\", \"gustado\", \"gustan\", \"gustan\", \"gustan\", \"gusto\", \"gusto\", \"gusto\", \"gusto\", \"gusto\", \"haber\", \"haber\", \"hace\", \"hace\", \"hace\", \"hacer\", \"hacer\", \"hacer\", \"hacer\", \"hacer\", \"hacer\", \"hijo\", \"hola\", \"hola\", \"horas\", \"horas\", \"hoy\", \"hoy\", \"ideal\", \"ideal\", \"imagen\", \"ingles\", \"ingl\\u00e9s\", \"instrucciones\", \"instrucciones\", \"instrucciones\", \"interesante\", \"interesante\", \"ir\", \"ir\", \"italiano\", \"juegazo\", \"juegazo\", \"juego\", \"juego\", \"juego\", \"juego\", \"juegos\", \"juegos\", \"juegos\", \"juegos\", \"jugabilidad\", \"jugabilidad\", \"jugabilidad\", \"jugar\", \"jugar\", \"jugar\", \"juguete\", \"juguete\", \"lamentable\", \"lamentable\", \"llegado\", \"llegado\", \"llegar\", \"llegar\", \"llegaron\", \"llegaron\", \"llego\", \"llego\", \"llego\", \"llego\", \"lleg\\u00f3\", \"lleg\\u00f3\", \"lleg\\u00f3\", \"lleg\\u00f3\", \"lleg\\u00f3\", \"lleva\", \"lleva\", \"lleva\", \"mal\", \"mal\", \"mal\", \"mal\", \"mal\", \"mal\", \"mala\", \"mala\", \"mando\", \"mando\", \"mando\", \"mando\", \"mando\", \"mandos\", \"mas\", \"mas\", \"mas\", \"mas\", \"mas\", \"mas\", \"material\", \"material\", \"material\", \"material\", \"material\", \"medida\", \"medida\", \"medio\", \"medio\", \"mejor\", \"mejor\", \"mejor\", \"mejor\", \"mejor\", \"mejor\", \"mejores\", \"mejores\", \"mejores\", \"mejores\", \"mes\", \"mes\", \"mes\", \"much\\u00edsimo\", \"mujer\", \"mujer\", \"mujer\", \"negra\", \"negra\", \"negro\", \"negro\", \"ningun\", \"ningun\", \"nintendo\", \"nintendo\", \"ni\\u00f1os\", \"ni\\u00f1os\", \"nuevo\", \"nuevo\", \"nuevo\", \"nuevo\", \"nuevo\", \"nunca\", \"nunca\", \"nunca\", \"nunca\", \"one\", \"opinar\", \"opinar\", \"original\", \"original\", \"original\", \"pandora\", \"pandora\", \"pantalla\", \"paquete\", \"paquete\", \"paquete\", \"parece\", \"parece\", \"parece\", \"parece\", \"parece\", \"parece\", \"parecido\", \"parecido\", \"parecido\", \"pc\", \"pc\", \"pc\", \"pc\", \"pedido\", \"pedido\", \"pedido\", \"pedido\", \"pedir\", \"pedir\", \"pedir\", \"ped\\u00ed\", \"ped\\u00ed\", \"pena\", \"pena\", \"pena\", \"pena\", \"pena\", \"pena\", \"pendientes\", \"pendientes\", \"pendientes\", \"pendientes\", \"peque\\u00f1a\", \"peque\\u00f1a\", \"peque\\u00f1a\", \"peque\\u00f1a\", \"peque\\u00f1as\", \"peque\\u00f1o\", \"peque\\u00f1o\", \"peque\\u00f1o\", \"peque\\u00f1o\", \"peque\\u00f1o\", \"peque\\u00f1os\", \"peque\\u00f1os\", \"perdi\\u00f3\", \"perdi\\u00f3\", \"perfectamente\", \"perfectamente\", \"perfectamente\", \"perfectamente\", \"perfecto\", \"perfecto\", \"perfecto\", \"perfecto\", \"perfecto\", \"perfecto\", \"perlas\", \"perlas\", \"pesan\", \"pesan\", \"peso\", \"peso\", \"piedras\", \"piel\", \"plata\", \"plata\", \"plata\", \"plata\", \"pl\\u00e1stico\", \"pl\\u00e1stico\", \"pl\\u00e1stico\", \"ponen\", \"poner\", \"poner\", \"poner\", \"precio\", \"precio\", \"precio\", \"precio\", \"precio\", \"precio\", \"precio\", \"preciosos\", \"presentaci\\u00f3n\", \"presentaci\\u00f3n\", \"previsto\", \"prime\", \"pro\", \"pro\", \"problema\", \"problema\", \"problema\", \"producto\", \"producto\", \"producto\", \"producto\", \"producto\", \"producto\", \"pronto\", \"pronto\", \"ps\", \"ps\", \"ps\", \"ps\", \"ps\", \"puede\", \"puede\", \"puede\", \"puede\", \"puedes\", \"puedes\", \"puedes\", \"puedes\", \"pues\", \"pues\", \"pues\", \"puesto\", \"puesto\", \"puesto\", \"puestos\", \"puestos\", \"pulsera\", \"pulsera\", \"pulsera\", \"pulsera\", \"pulsera\", \"puse\", \"puse\", \"puse\", \"q\", \"q\", \"queda\", \"queda\", \"queda\", \"queda\", \"quedan\", \"quedan\", \"quer\\u00eda\", \"quer\\u00eda\", \"quer\\u00eda\", \"quieres\", \"quiz\\u00e1\", \"rat\\u00f3n\", \"rat\\u00f3n\", \"rat\\u00f3n\", \"recibido\", \"recibido\", \"recibido\", \"recomendable\", \"recomendable\", \"recomendable\", \"recomendable\", \"recomendado\", \"recomendado\", \"recomiendo\", \"recomiendo\", \"recomiendo\", \"recomiendo\", \"recomiendo\", \"recomiendo\", \"regalo\", \"regalo\", \"regalo\", \"regalo\", \"regalo\", \"relaci\\u00f3n\", \"rompio\", \"rompio\", \"rompi\\u00f3\", \"rompi\\u00f3\", \"rosa\", \"rosa\", \"rota\", \"roto\", \"roto\", \"roto\", \"ruido\", \"r\\u00e1pido\", \"r\\u00e1pido\", \"r\\u00e1pido\", \"r\\u00e1pido\", \"sale\", \"sale\", \"segundo\", \"segundo\", \"segundo\", \"seg\\u00fan\", \"seg\\u00fan\", \"semana\", \"semana\", \"semana\", \"semana\", \"semana\", \"ser\", \"ser\", \"ser\", \"ser\", \"si\", \"si\", \"si\", \"si\", \"si\", \"sido\", \"sido\", \"siempre\", \"siempre\", \"siempre\", \"siempre\", \"siempre\", \"siendo\", \"siendo\", \"sigue\", \"sigue\", \"sistema\", \"sistema\", \"sitio\", \"sitio\", \"sitio\", \"solo\", \"solo\", \"solo\", \"solo\", \"sonido\", \"sonido\", \"sorpresa\", \"switch\", \"switch\", \"switch\", \"s\\u00f3lo\", \"tacto\", \"tacto\", \"tacto\", \"tal\", \"tal\", \"tal\", \"tal\", \"tama\\u00f1o\", \"tama\\u00f1o\", \"tama\\u00f1o\", \"tama\\u00f1o\", \"tama\\u00f1o\", \"tan\", \"tan\", \"tan\", \"tan\", \"tiempo\", \"tiempo\", \"tiempo\", \"tiempo\", \"tiempo\", \"tiendas\", \"tipo\", \"tipo\", \"toda\", \"toda\", \"toda\", \"todas\", \"todas\", \"todas\", \"todav\\u00eda\", \"todav\\u00eda\", \"totalmente\", \"totalmente\", \"totalmente\", \"totalmente\", \"transporte\", \"transporte\", \"transporte\", \"tra\\u00eda\", \"tra\\u00eda\", \"usb\", \"usb\", \"uso\", \"uso\", \"utilizar\", \"va\", \"va\", \"va\", \"va\", \"vale\", \"vale\", \"vale\", \"vale\", \"vale\", \"valen\", \"valen\", \"van\", \"vendedor\", \"vendedor\", \"vendedor\", \"vendedor\", \"venia\", \"ven\\u00eda\", \"ven\\u00eda\", \"ven\\u00eda\", \"veo\", \"veo\", \"ver\", \"ver\", \"ver\", \"verdad\", \"verdad\", \"verdad\", \"verdad\", \"verdad\", \"versi\\u00f3n\", \"versi\\u00f3n\", \"versi\\u00f3n\", \"versi\\u00f3n\", \"vez\", \"vez\", \"vez\", \"vez\", \"vez\", \"viene\", \"viene\", \"viene\", \"viene\", \"viene\", \"viene\", \"volver\\u00eda\", \"volver\\u00eda\", \"xbox\", \"xbox\", \"\\u00fanica\", \"\\u00fanica\"]}, \"R\": 30, \"lambda.step\": 0.01, \"plot.opts\": {\"xlab\": \"PC1\", \"ylab\": \"PC2\"}, \"topic.order\": [1, 2, 3, 4, 5, 6, 7]};\n",
       "\n",
       "function LDAvis_load_lib(url, callback){\n",
       "  var s = document.createElement('script');\n",
       "  s.src = url;\n",
       "  s.async = true;\n",
       "  s.onreadystatechange = s.onload = callback;\n",
       "  s.onerror = function(){console.warn(\"failed to load library \" + url);};\n",
       "  document.getElementsByTagName(\"head\")[0].appendChild(s);\n",
       "}\n",
       "\n",
       "if(typeof(LDAvis) !== \"undefined\"){\n",
       "   // already loaded: just create the visualization\n",
       "   !function(LDAvis){\n",
       "       new LDAvis(\"#\" + \"ldavis_el21962372642568378295610\", ldavis_el21962372642568378295610_data);\n",
       "   }(LDAvis);\n",
       "}else if(typeof define === \"function\" && define.amd){\n",
       "   // require.js is available: use it to load d3/LDAvis\n",
       "   require.config({paths: {d3: \"https://cdnjs.cloudflare.com/ajax/libs/d3/3.5.5/d3.min\"}});\n",
       "   require([\"d3\"], function(d3){\n",
       "      window.d3 = d3;\n",
       "      LDAvis_load_lib(\"https://cdn.rawgit.com/bmabey/pyLDAvis/files/ldavis.v1.0.0.js\", function(){\n",
       "        new LDAvis(\"#\" + \"ldavis_el21962372642568378295610\", ldavis_el21962372642568378295610_data);\n",
       "      });\n",
       "    });\n",
       "}else{\n",
       "    // require.js not available: dynamically load d3 & LDAvis\n",
       "    LDAvis_load_lib(\"https://cdnjs.cloudflare.com/ajax/libs/d3/3.5.5/d3.min.js\", function(){\n",
       "         LDAvis_load_lib(\"https://cdn.rawgit.com/bmabey/pyLDAvis/files/ldavis.v1.0.0.js\", function(){\n",
       "                 new LDAvis(\"#\" + \"ldavis_el21962372642568378295610\", ldavis_el21962372642568378295610_data);\n",
       "            })\n",
       "         });\n",
       "}\n",
       "</script>"
      ],
      "text/plain": [
       "<IPython.core.display.HTML object>"
      ]
     },
     "execution_count": 7,
     "metadata": {},
     "output_type": "execute_result"
    }
   ],
   "source": [
    "lda_display = pyLDAvis.gensim.prepare(model, corpus, dictionary, sort_topics=False)\n",
    "pyLDAvis.display(lda_display)"
   ]
  }
 ],
 "metadata": {
  "kernelspec": {
   "display_name": "Python 3",
   "language": "python",
   "name": "python3"
  },
  "language_info": {
   "codemirror_mode": {
    "name": "ipython",
    "version": 3
   },
   "file_extension": ".py",
   "mimetype": "text/x-python",
   "name": "python",
   "nbconvert_exporter": "python",
   "pygments_lexer": "ipython3",
   "version": "3.8.3"
  }
 },
 "nbformat": 4,
 "nbformat_minor": 2
}
