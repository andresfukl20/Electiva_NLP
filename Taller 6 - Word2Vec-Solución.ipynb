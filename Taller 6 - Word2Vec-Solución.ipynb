{
 "cells": [
  {
   "cell_type": "markdown",
   "metadata": {},
   "source": [
    "<img src='https://encrypted-tbn0.gstatic.com/images?q=tbn%3AANd9GcQ-VfNtOyJbsaxu43Kztf_cv1mgBG6ZIQZEVw&usqp=CAU'>\n",
    "\n",
    "# Procesamiento de Lenguage Natural\n",
    "\n",
    "## Taller #6: Word2Vec\n",
    "`Fecha de entrega: Septiembre 19, 2020. (Antes del inicio de la próxima clase).`\n",
    "\n",
    "`Modo de entrega: Subir link de GitHub al aula virtual.`\n",
    "\n",
    "\n",
    "\n",
    "## Libre elección\n",
    "\n",
    "Expectativas:\n",
    "- Uso de Word2Vec \n",
    "- Responder:\n",
    "    - ¿Su modelo da buenos resultados? ¿Por qué sí o por qué no?\n",
    "    - ¿Qué problemas encontró al realizar este taller?\n",
    "    \n",
    "    \n",
    "Ideas algunas por si están varados: \n",
    "- Hacer más visualizaciones\n",
    "- Jugar con los parámetros de la funcion word2vec de gensim\n",
    "- Usar alguna función de gensim que no hayamos visto en clase (https://radimrehurek.com/gensim/models/word2vec.html#module-gensim.models.word2vec)\n",
    "- Comparar palabras del inglés y el español\n",
    "- Encontrar analogías y similutdes interesantes\n",
    "\n",
    "\n",
    "### Enviar código con explicaciones del por qué escogieron ese camino"
   ]
  },
  {
   "cell_type": "code",
   "execution_count": 5,
   "metadata": {},
   "outputs": [],
   "source": [
    "import re\n",
    "import pandas as pd\n",
    "\n"
   ]
  },
  {
   "cell_type": "code",
   "execution_count": 6,
   "metadata": {},
   "outputs": [],
   "source": [
    "ruta=\"D:\\\\Users\\\\User\\\\Imágenes\\\\Especialización Analítica Estratégica de Datos\\\\Semestre II\\\\Electiva NLP\\\\Clase_6\\\\rap_espanol.csv\""
   ]
  },
  {
   "cell_type": "code",
   "execution_count": 7,
   "metadata": {},
   "outputs": [],
   "source": [
    "rap = pd.read_csv(ruta,sep=',',encoding='utf-8')"
   ]
  },
  {
   "cell_type": "code",
   "execution_count": 8,
   "metadata": {},
   "outputs": [
    {
     "data": {
      "text/html": [
       "<div>\n",
       "<style scoped>\n",
       "    .dataframe tbody tr th:only-of-type {\n",
       "        vertical-align: middle;\n",
       "    }\n",
       "\n",
       "    .dataframe tbody tr th {\n",
       "        vertical-align: top;\n",
       "    }\n",
       "\n",
       "    .dataframe thead th {\n",
       "        text-align: right;\n",
       "    }\n",
       "</style>\n",
       "<table border=\"1\" class=\"dataframe\">\n",
       "  <thead>\n",
       "    <tr style=\"text-align: right;\">\n",
       "      <th></th>\n",
       "      <th>id</th>\n",
       "      <th>artista</th>\n",
       "      <th>cancion</th>\n",
       "      <th>album</th>\n",
       "      <th>letra</th>\n",
       "      <th>anyo</th>\n",
       "      <th>visitas</th>\n",
       "      <th>pp</th>\n",
       "    </tr>\n",
       "  </thead>\n",
       "  <tbody>\n",
       "    <tr>\n",
       "      <th>0</th>\n",
       "      <td>0</td>\n",
       "      <td>Denom</td>\n",
       "      <td>Machete (con Jarfaiter y Gente jodida)</td>\n",
       "      <td>Medicina</td>\n",
       "      <td>Para su nuevo disco \"Medicina\", Denom ha vuelt...</td>\n",
       "      <td>2019</td>\n",
       "      <td>126</td>\n",
       "      <td>[nuevo, disco, medicina, denom, vuelto, contar...</td>\n",
       "    </tr>\n",
       "    <tr>\n",
       "      <th>1</th>\n",
       "      <td>1</td>\n",
       "      <td>Denom</td>\n",
       "      <td>Vacío (con Ivo Incuerdo)</td>\n",
       "      <td>Medicina</td>\n",
       "      <td>[Denom]\\nYo que quería, yo que pedía vida,\\nSe...</td>\n",
       "      <td>2019</td>\n",
       "      <td>361</td>\n",
       "      <td>[denom, quería, pedía, vida, partió, mitad, ah...</td>\n",
       "    </tr>\n",
       "    <tr>\n",
       "      <th>2</th>\n",
       "      <td>2</td>\n",
       "      <td>Denom</td>\n",
       "      <td>El orgullo es fiel (con Juancho Marqués y Elio...</td>\n",
       "      <td>Medicina</td>\n",
       "      <td>\"El orgullo es fiel\" es uno de los cortes incl...</td>\n",
       "      <td>2019</td>\n",
       "      <td>262</td>\n",
       "      <td>[orgullo, fiel, cortes, incluidos, nuevo, disc...</td>\n",
       "    </tr>\n",
       "    <tr>\n",
       "      <th>3</th>\n",
       "      <td>3</td>\n",
       "      <td>Denom</td>\n",
       "      <td>Mueve mueve (con Fernandocosta)</td>\n",
       "      <td>Medicina</td>\n",
       "      <td>[Estribillo: Denom] (x2)\\nMueve, mueve, mueve,...</td>\n",
       "      <td>2019</td>\n",
       "      <td>578</td>\n",
       "      <td>[estribillo, denom, x, mueve, mueve, mueve, ti...</td>\n",
       "    </tr>\n",
       "    <tr>\n",
       "      <th>4</th>\n",
       "      <td>4</td>\n",
       "      <td>Jaro Desperdizio</td>\n",
       "      <td>Insomnia</td>\n",
       "      <td>Sin álbum, es un vídeo suelto</td>\n",
       "      <td>[Estribillo]\\nY en esta noche, ¿Quién me arrop...</td>\n",
       "      <td>2019</td>\n",
       "      <td>219</td>\n",
       "      <td>[estribillo, noche, quién, arropará, si, invie...</td>\n",
       "    </tr>\n",
       "  </tbody>\n",
       "</table>\n",
       "</div>"
      ],
      "text/plain": [
       "   id           artista                                            cancion  \\\n",
       "0   0             Denom             Machete (con Jarfaiter y Gente jodida)   \n",
       "1   1             Denom                           Vacío (con Ivo Incuerdo)   \n",
       "2   2             Denom  El orgullo es fiel (con Juancho Marqués y Elio...   \n",
       "3   3             Denom                    Mueve mueve (con Fernandocosta)   \n",
       "4   4  Jaro Desperdizio                                           Insomnia   \n",
       "\n",
       "                           album  \\\n",
       "0                       Medicina   \n",
       "1                       Medicina   \n",
       "2                       Medicina   \n",
       "3                       Medicina   \n",
       "4  Sin álbum, es un vídeo suelto   \n",
       "\n",
       "                                               letra  anyo  visitas  \\\n",
       "0  Para su nuevo disco \"Medicina\", Denom ha vuelt...  2019      126   \n",
       "1  [Denom]\\nYo que quería, yo que pedía vida,\\nSe...  2019      361   \n",
       "2  \"El orgullo es fiel\" es uno de los cortes incl...  2019      262   \n",
       "3  [Estribillo: Denom] (x2)\\nMueve, mueve, mueve,...  2019      578   \n",
       "4  [Estribillo]\\nY en esta noche, ¿Quién me arrop...  2019      219   \n",
       "\n",
       "                                                  pp  \n",
       "0  [nuevo, disco, medicina, denom, vuelto, contar...  \n",
       "1  [denom, quería, pedía, vida, partió, mitad, ah...  \n",
       "2  [orgullo, fiel, cortes, incluidos, nuevo, disc...  \n",
       "3  [estribillo, denom, x, mueve, mueve, mueve, ti...  \n",
       "4  [estribillo, noche, quién, arropará, si, invie...  "
      ]
     },
     "execution_count": 8,
     "metadata": {},
     "output_type": "execute_result"
    }
   ],
   "source": [
    "from nltk.corpus import stopwords\n",
    "stopwords_sp = stopwords.words('spanish')\n",
    "\n",
    "def pre_procesado(texto):\n",
    "    texto = texto.lower()\n",
    "    texto = re.sub(r\"[\\W\\d_]+\", \" \", texto)\n",
    "    texto = \" \".join([palabra for palabra in texto.split() if palabra not in stopwords_sp])\n",
    "    return texto.split()\n",
    "\n",
    "\n",
    "rap['pp'] = rap['letra'].apply(lambda texto: pre_procesado(texto))\n",
    "\n",
    "rap.head()"
   ]
  },
  {
   "cell_type": "code",
   "execution_count": 9,
   "metadata": {},
   "outputs": [],
   "source": [
    "import gensim.models.word2vec as w2v"
   ]
  },
  {
   "cell_type": "code",
   "execution_count": 10,
   "metadata": {},
   "outputs": [
    {
     "name": "stdout",
     "output_type": "stream",
     "text": [
      "Wall time: 11min 51s\n"
     ]
    }
   ],
   "source": [
    "%%time\n",
    "\n",
    "mi_modelo = w2v.Word2Vec(rap['pp'].values,\n",
    "                            sg=1, # 1 para usar skip-gram, 0 para usar CBOW\n",
    "                            seed=1, # 1 para tener resultados reproducibles y debugear\n",
    "                            size=256, # el tamaño de los vectores de palabras, o neuronas\n",
    "                            min_count=50, #mínimo de veces que ha de aparecer cada palabra, para ser considerada,\n",
    "                            window=12) # ventana contextual de cada palabra"
   ]
  },
  {
   "cell_type": "code",
   "execution_count": 12,
   "metadata": {},
   "outputs": [
    {
     "data": {
      "text/plain": [
       "[('papá', 0.6792153120040894),\n",
       " ('dijo', 0.43296152353286743),\n",
       " ('mama', 0.4306870400905609),\n",
       " ('laos', 0.42010509967803955),\n",
       " ('pedí', 0.40941721200942993),\n",
       " ('lloraba', 0.4057576656341553),\n",
       " ('abuela', 0.4035918712615967),\n",
       " ('aprendió', 0.3949452042579651),\n",
       " ('rompió', 0.39436638355255127),\n",
       " ('hiciera', 0.3939596116542816)]"
      ]
     },
     "execution_count": 12,
     "metadata": {},
     "output_type": "execute_result"
    }
   ],
   "source": [
    "mi_modelo.wv.most_similar(\"mamá\")"
   ]
  },
  {
   "cell_type": "code",
   "execution_count": 13,
   "metadata": {},
   "outputs": [
    {
     "data": {
      "text/plain": [
       "[('desamor', 0.4870477616786957),\n",
       " ('decepción', 0.4759700894355774),\n",
       " ('rencor', 0.4714568853378296),\n",
       " ('compañera', 0.4670712351799011),\n",
       " ('amada', 0.4612414240837097),\n",
       " ('amar', 0.4537756145000458),\n",
       " ('amarte', 0.4477826952934265),\n",
       " ('marchita', 0.43792593479156494),\n",
       " ('relación', 0.4364677965641022),\n",
       " ('reproches', 0.43133115768432617)]"
      ]
     },
     "execution_count": 13,
     "metadata": {},
     "output_type": "execute_result"
    }
   ],
   "source": [
    "mi_modelo.wv.most_similar(\"amor\")"
   ]
  },
  {
   "cell_type": "code",
   "execution_count": 14,
   "metadata": {},
   "outputs": [
    {
     "data": {
      "text/plain": [
       "[('detalle', 0.5330477952957153),\n",
       " ('falle', 0.5066254734992981),\n",
       " ('calles', 0.42293819785118103),\n",
       " ('valle', 0.4099256992340088),\n",
       " ('yonkis', 0.38105952739715576),\n",
       " ('compadre', 0.3798985481262207),\n",
       " ('parque', 0.3768068552017212),\n",
       " ('falles', 0.3750115931034088),\n",
       " ('chavales', 0.36629658937454224),\n",
       " ('patio', 0.3660603165626526)]"
      ]
     },
     "execution_count": 14,
     "metadata": {},
     "output_type": "execute_result"
    }
   ],
   "source": [
    "mi_modelo.wv.most_similar(\"calle\")"
   ]
  },
  {
   "cell_type": "code",
   "execution_count": 15,
   "metadata": {},
   "outputs": [
    {
     "data": {
      "text/plain": [
       "[('diario', 0.4473284184932709),\n",
       " ('calvario', 0.4399234652519226),\n",
       " ('salario', 0.4187658429145813),\n",
       " ('barrios', 0.41661667823791504),\n",
       " ('fonk', 0.4164388179779053),\n",
       " ('calendario', 0.4162812829017639),\n",
       " ('horarios', 0.41550612449645996),\n",
       " ('chino', 0.41171711683273315),\n",
       " ('bloque', 0.4085061252117157),\n",
       " ('parque', 0.4078294634819031)]"
      ]
     },
     "execution_count": 15,
     "metadata": {},
     "output_type": "execute_result"
    }
   ],
   "source": [
    "mi_modelo.wv.most_similar(\"barrio\")"
   ]
  },
  {
   "cell_type": "code",
   "execution_count": 16,
   "metadata": {},
   "outputs": [
    {
     "data": {
      "text/plain": [
       "[('esquivar', 0.43910592794418335),\n",
       " ('satán', 0.4312875270843506),\n",
       " ('matarme', 0.4255461096763611),\n",
       " ('pegar', 0.4190686345100403),\n",
       " ('estallar', 0.41771790385246277),\n",
       " ('engañar', 0.41307732462882996),\n",
       " ('patada', 0.40840500593185425),\n",
       " ('disparar', 0.40598416328430176),\n",
       " ('cenar', 0.39948955178260803),\n",
       " ('abandonar', 0.3926964998245239)]"
      ]
     },
     "execution_count": 16,
     "metadata": {},
     "output_type": "execute_result"
    }
   ],
   "source": [
    "mi_modelo.wv.most_similar(\"matar\")"
   ]
  },
  {
   "cell_type": "code",
   "execution_count": 17,
   "metadata": {},
   "outputs": [
    {
     "data": {
      "text/plain": [
       "[('rozar', 0.5003237724304199),\n",
       " ('labios', 0.4863959848880768),\n",
       " ('perderme', 0.4703035354614258),\n",
       " ('amar', 0.45947617292404175),\n",
       " ('anhelo', 0.4471933841705322),\n",
       " ('mirarte', 0.44592028856277466),\n",
       " ('sabía', 0.4447644352912903),\n",
       " ('quieros', 0.43649744987487793),\n",
       " ('besarte', 0.4337540566921234),\n",
       " ('tocar', 0.42985111474990845)]"
      ]
     },
     "execution_count": 17,
     "metadata": {},
     "output_type": "execute_result"
    }
   ],
   "source": [
    "mi_modelo.wv.most_similar(\"besar\")"
   ]
  },
  {
   "cell_type": "code",
   "execution_count": 18,
   "metadata": {},
   "outputs": [
    {
     "data": {
      "text/plain": [
       "[('flexo', 0.4911748170852661),\n",
       " ('exceso', 0.43804866075515747),\n",
       " ('drogas', 0.4289308190345764),\n",
       " ('niñas', 0.4112323224544525),\n",
       " ('orgasmo', 0.4039373993873596),\n",
       " ('confieso', 0.40224599838256836),\n",
       " ('falda', 0.3956475257873535),\n",
       " ('sexual', 0.39386993646621704),\n",
       " ('excesos', 0.39252617955207825),\n",
       " ('condón', 0.39187103509902954)]"
      ]
     },
     "execution_count": 18,
     "metadata": {},
     "output_type": "execute_result"
    }
   ],
   "source": [
    "mi_modelo.wv.most_similar(\"sexo\")"
   ]
  },
  {
   "cell_type": "code",
   "execution_count": 20,
   "metadata": {},
   "outputs": [
    {
     "data": {
      "text/plain": [
       "[('diseño', 0.4864169955253601),\n",
       " ('alcohol', 0.484932005405426),\n",
       " ('droga', 0.48090773820877075),\n",
       " ('polis', 0.47005516290664673),\n",
       " ('bromas', 0.45794999599456787),\n",
       " ('bares', 0.4513447880744934),\n",
       " ('porros', 0.44559961557388306),\n",
       " ('modas', 0.437100887298584),\n",
       " ('bebida', 0.43660402297973633),\n",
       " ('sexo', 0.42893075942993164)]"
      ]
     },
     "execution_count": 20,
     "metadata": {},
     "output_type": "execute_result"
    }
   ],
   "source": [
    "mi_modelo.wv.most_similar(\"drogas\")"
   ]
  },
  {
   "cell_type": "code",
   "execution_count": 21,
   "metadata": {},
   "outputs": [
    {
     "data": {
      "text/plain": [
       "[('servicio', 0.5773688554763794),\n",
       " ('beneficio', 0.5705205202102661),\n",
       " ('sacrificio', 0.5697238445281982),\n",
       " ('oficio', 0.5694324374198914),\n",
       " ('ocio', 0.54879230260849),\n",
       " ('edificio', 0.5350303053855896),\n",
       " ('juicio', 0.5264607667922974),\n",
       " ('precipicio', 0.494181752204895),\n",
       " ('inicio', 0.4819808602333069),\n",
       " ('negocio', 0.4626474976539612)]"
      ]
     },
     "execution_count": 21,
     "metadata": {},
     "output_type": "execute_result"
    }
   ],
   "source": [
    "mi_modelo.wv.most_similar(\"vicio\")"
   ]
  },
  {
   "cell_type": "code",
   "execution_count": 22,
   "metadata": {},
   "outputs": [
    {
     "data": {
      "text/plain": [
       "[('maquina', 0.5712414979934692),\n",
       " ('unica', 0.4937271475791931),\n",
       " ('despues', 0.48940521478652954),\n",
       " ('practica', 0.48791825771331787),\n",
       " ('mision', 0.4858665466308594),\n",
       " ('enganchado', 0.48560890555381775),\n",
       " ('todavia', 0.47690024971961975),\n",
       " ('asfixia', 0.4738195240497589),\n",
       " ('calvario', 0.4698548913002014),\n",
       " ('noticia', 0.4696066975593567)]"
      ]
     },
     "execution_count": 22,
     "metadata": {},
     "output_type": "execute_result"
    }
   ],
   "source": [
    "mi_modelo.wv.most_similar(\"carcel\")"
   ]
  },
  {
   "cell_type": "code",
   "execution_count": 23,
   "metadata": {},
   "outputs": [],
   "source": [
    "def nearest_similarity_cosmul(start1, end1, end2):\n",
    "    similarities = mi_modelo.wv.most_similar_cosmul(\n",
    "        positive=[end2, start1],\n",
    "        negative=[end1]\n",
    "    )\n",
    "    start2 = similarities[0][0]\n",
    "    print(\"{0} es a {1}, lo que {2} es a {3}\".format(start1, end1, start2, end2))"
   ]
  },
  {
   "cell_type": "code",
   "execution_count": 28,
   "metadata": {},
   "outputs": [
    {
     "name": "stdout",
     "output_type": "stream",
     "text": [
      "besar es a amor, lo que borrar es a querer\n"
     ]
    }
   ],
   "source": [
    "nearest_similarity_cosmul(\"besar\", \"amor\", \"querer\")"
   ]
  },
  {
   "cell_type": "code",
   "execution_count": 29,
   "metadata": {},
   "outputs": [
    {
     "name": "stdout",
     "output_type": "stream",
     "text": [
      "cantar es a alegria, lo que vibrar es a tristeza\n"
     ]
    }
   ],
   "source": [
    "nearest_similarity_cosmul(\"cantar\", \"alegria\", \"tristeza\")"
   ]
  },
  {
   "cell_type": "code",
   "execution_count": 31,
   "metadata": {},
   "outputs": [
    {
     "name": "stdout",
     "output_type": "stream",
     "text": [
      "cantar es a alegria, lo que auricular es a vibrar\n"
     ]
    }
   ],
   "source": [
    "nearest_similarity_cosmul(\"cantar\", \"alegria\", \"vibrar\")"
   ]
  },
  {
   "cell_type": "code",
   "execution_count": 35,
   "metadata": {},
   "outputs": [
    {
     "name": "stdout",
     "output_type": "stream",
     "text": [
      "vivir es a gozar, lo que sufrir es a morir\n"
     ]
    }
   ],
   "source": [
    "nearest_similarity_cosmul(\"vivir\", \"gozar\", \"morir\")"
   ]
  },
  {
   "cell_type": "code",
   "execution_count": 46,
   "metadata": {},
   "outputs": [
    {
     "name": "stdout",
     "output_type": "stream",
     "text": [
      "sobrevivir es a existir, lo que odiar es a amar\n"
     ]
    }
   ],
   "source": [
    "nearest_similarity_cosmul(\"sobrevivir\", \"existir\", \"amar\")"
   ]
  },
  {
   "cell_type": "code",
   "execution_count": 36,
   "metadata": {},
   "outputs": [],
   "source": [
    "from sklearn.decomposition import PCA\n",
    "import matplotlib.pyplot as plt\n",
    "import plotly.graph_objs as go\n",
    "from plotly.offline import iplot"
   ]
  },
  {
   "cell_type": "code",
   "execution_count": 47,
   "metadata": {},
   "outputs": [
    {
     "name": "stdout",
     "output_type": "stream",
     "text": [
      "['sonreir', 'sonreír', 'cicatriz', 'reir', 'sufrir', 'reír', 'raíz', 'infeliz', 'deseas', 'vivir', 'escuchar', 'oír', 'hablar', 'vacilar', 'criticar', 'soportar', 'reír', 'enseñarte', 'bailar', 'sonar']\n"
     ]
    }
   ],
   "source": [
    "vocab = [e[0] for e in mi_modelo.wv.most_similar(\"feliz\")]+[e[0] for e in mi_modelo.wv.most_similar(\"cantar\")]\n",
    "print(vocab)"
   ]
  },
  {
   "cell_type": "code",
   "execution_count": 48,
   "metadata": {},
   "outputs": [
    {
     "name": "stdout",
     "output_type": "stream",
     "text": [
      "['reír', 'sentirte', 'sentirme', 'besarte', 'vibrar', 'sufrir', 'existir', 'latir', 'reir', 'sonreir', 'historias', 'flipar', 'recuperar', 'cambiar', 'necesidad', 'continuar', 'cuento', 'contado', 'imaginar', 'alejarme']\n"
     ]
    }
   ],
   "source": [
    "vocab = [e[0] for e in mi_modelo.wv.most_similar(\"sentir\")]+[e[0] for e in mi_modelo.wv.most_similar(\"contar\")]\n",
    "print(vocab)"
   ]
  },
  {
   "cell_type": "code",
   "execution_count": 49,
   "metadata": {},
   "outputs": [
    {
     "name": "stdout",
     "output_type": "stream",
     "text": [
      "['flexo', 'exceso', 'drogas', 'niñas', 'orgasmo', 'confieso', 'falda', 'sexual', 'excesos', 'condón', 'odiar', 'teme', 'ama', 'amarme', 'amado', 'amarte', 'besar', 'egoísmo', 'querer', 'amor']\n"
     ]
    }
   ],
   "source": [
    "vocab = [e[0] for e in mi_modelo.wv.most_similar(\"sexo\")]+[e[0] for e in mi_modelo.wv.most_similar(\"amar\")]\n",
    "print(vocab)"
   ]
  },
  {
   "cell_type": "markdown",
   "metadata": {},
   "source": [
    "### El modelo tienes buenos resultados dado que jugando con diferentes palabras clave me dpy cuenta  que el programa asocia palabras similares y que pueden tener sentido dentro del contexto que se le quiera dar.\n",
    "### El ejercicio de interactuar con cada una de las palabras es importante ya que te da una visión sobre el modelaje dentro del munto de NLP."
   ]
  }
 ],
 "metadata": {
  "kernelspec": {
   "display_name": "Python 3",
   "language": "python",
   "name": "python3"
  },
  "language_info": {
   "codemirror_mode": {
    "name": "ipython",
    "version": 3
   },
   "file_extension": ".py",
   "mimetype": "text/x-python",
   "name": "python",
   "nbconvert_exporter": "python",
   "pygments_lexer": "ipython3",
   "version": "3.8.3"
  }
 },
 "nbformat": 4,
 "nbformat_minor": 2
}
